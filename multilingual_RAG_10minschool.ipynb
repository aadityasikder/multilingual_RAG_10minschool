{
  "nbformat": 4,
  "nbformat_minor": 0,
  "metadata": {
    "colab": {
      "provenance": []
    },
    "kernelspec": {
      "name": "python3",
      "display_name": "Python 3"
    },
    "language_info": {
      "name": "python"
    }
  },
  "cells": [
    {
      "cell_type": "code",
      "source": [
        "!pip install -U bitsandbytes\n",
        "!pip install -U transformers accelerate\n",
        "!pip install transformers accelerate sentence-transformers faiss-cpu\n",
        "!apt-get install -y poppler-utils\n",
        "!sudo apt-get update\n",
        "!sudo apt-get install tesseract-ocr-ben\n",
        "!pip install fastapi uvicorn nest_asyncio pyngrok"
      ],
      "metadata": {
        "colab": {
          "base_uri": "https://localhost:8080/"
        },
        "collapsed": true,
        "id": "uDQ0CGQOND2b",
        "outputId": "730d93e3-8f30-4a7d-fd34-1f0d9307c7ca",
        "jupyter": {
          "outputs_hidden": true
        },
        "trusted": true,
        "execution": {
          "iopub.status.busy": "2025-07-26T15:11:29.397055Z",
          "iopub.execute_input": "2025-07-26T15:11:29.397299Z",
          "iopub.status.idle": "2025-07-26T15:13:27.548851Z",
          "shell.execute_reply.started": "2025-07-26T15:11:29.397281Z",
          "shell.execute_reply": "2025-07-26T15:13:27.547796Z"
        }
      },
      "outputs": [
        {
          "name": "stdout",
          "text": "Collecting bitsandbytes\n  Downloading bitsandbytes-0.46.1-py3-none-manylinux_2_24_x86_64.whl.metadata (10 kB)\nRequirement already satisfied: torch<3,>=2.2 in /usr/local/lib/python3.11/dist-packages (from bitsandbytes) (2.6.0+cu124)\nRequirement already satisfied: numpy>=1.17 in /usr/local/lib/python3.11/dist-packages (from bitsandbytes) (1.26.4)\nRequirement already satisfied: mkl_fft in /usr/local/lib/python3.11/dist-packages (from numpy>=1.17->bitsandbytes) (1.3.8)\nRequirement already satisfied: mkl_random in /usr/local/lib/python3.11/dist-packages (from numpy>=1.17->bitsandbytes) (1.2.4)\nRequirement already satisfied: mkl_umath in /usr/local/lib/python3.11/dist-packages (from numpy>=1.17->bitsandbytes) (0.1.1)\nRequirement already satisfied: mkl in /usr/local/lib/python3.11/dist-packages (from numpy>=1.17->bitsandbytes) (2025.2.0)\nRequirement already satisfied: tbb4py in /usr/local/lib/python3.11/dist-packages (from numpy>=1.17->bitsandbytes) (2022.2.0)\nRequirement already satisfied: mkl-service in /usr/local/lib/python3.11/dist-packages (from numpy>=1.17->bitsandbytes) (2.4.1)\nRequirement already satisfied: filelock in /usr/local/lib/python3.11/dist-packages (from torch<3,>=2.2->bitsandbytes) (3.18.0)\nRequirement already satisfied: typing-extensions>=4.10.0 in /usr/local/lib/python3.11/dist-packages (from torch<3,>=2.2->bitsandbytes) (4.14.0)\nRequirement already satisfied: networkx in /usr/local/lib/python3.11/dist-packages (from torch<3,>=2.2->bitsandbytes) (3.5)\nRequirement already satisfied: jinja2 in /usr/local/lib/python3.11/dist-packages (from torch<3,>=2.2->bitsandbytes) (3.1.6)\nRequirement already satisfied: fsspec in /usr/local/lib/python3.11/dist-packages (from torch<3,>=2.2->bitsandbytes) (2025.5.1)\nCollecting nvidia-cuda-nvrtc-cu12==12.4.127 (from torch<3,>=2.2->bitsandbytes)\n  Downloading nvidia_cuda_nvrtc_cu12-12.4.127-py3-none-manylinux2014_x86_64.whl.metadata (1.5 kB)\nCollecting nvidia-cuda-runtime-cu12==12.4.127 (from torch<3,>=2.2->bitsandbytes)\n  Downloading nvidia_cuda_runtime_cu12-12.4.127-py3-none-manylinux2014_x86_64.whl.metadata (1.5 kB)\nCollecting nvidia-cuda-cupti-cu12==12.4.127 (from torch<3,>=2.2->bitsandbytes)\n  Downloading nvidia_cuda_cupti_cu12-12.4.127-py3-none-manylinux2014_x86_64.whl.metadata (1.6 kB)\nCollecting nvidia-cudnn-cu12==9.1.0.70 (from torch<3,>=2.2->bitsandbytes)\n  Downloading nvidia_cudnn_cu12-9.1.0.70-py3-none-manylinux2014_x86_64.whl.metadata (1.6 kB)\nCollecting nvidia-cublas-cu12==12.4.5.8 (from torch<3,>=2.2->bitsandbytes)\n  Downloading nvidia_cublas_cu12-12.4.5.8-py3-none-manylinux2014_x86_64.whl.metadata (1.5 kB)\nCollecting nvidia-cufft-cu12==11.2.1.3 (from torch<3,>=2.2->bitsandbytes)\n  Downloading nvidia_cufft_cu12-11.2.1.3-py3-none-manylinux2014_x86_64.whl.metadata (1.5 kB)\nCollecting nvidia-curand-cu12==10.3.5.147 (from torch<3,>=2.2->bitsandbytes)\n  Downloading nvidia_curand_cu12-10.3.5.147-py3-none-manylinux2014_x86_64.whl.metadata (1.5 kB)\nCollecting nvidia-cusolver-cu12==11.6.1.9 (from torch<3,>=2.2->bitsandbytes)\n  Downloading nvidia_cusolver_cu12-11.6.1.9-py3-none-manylinux2014_x86_64.whl.metadata (1.6 kB)\nCollecting nvidia-cusparse-cu12==12.3.1.170 (from torch<3,>=2.2->bitsandbytes)\n  Downloading nvidia_cusparse_cu12-12.3.1.170-py3-none-manylinux2014_x86_64.whl.metadata (1.6 kB)\nRequirement already satisfied: nvidia-cusparselt-cu12==0.6.2 in /usr/local/lib/python3.11/dist-packages (from torch<3,>=2.2->bitsandbytes) (0.6.2)\nRequirement already satisfied: nvidia-nccl-cu12==2.21.5 in /usr/local/lib/python3.11/dist-packages (from torch<3,>=2.2->bitsandbytes) (2.21.5)\nRequirement already satisfied: nvidia-nvtx-cu12==12.4.127 in /usr/local/lib/python3.11/dist-packages (from torch<3,>=2.2->bitsandbytes) (12.4.127)\nCollecting nvidia-nvjitlink-cu12==12.4.127 (from torch<3,>=2.2->bitsandbytes)\n  Downloading nvidia_nvjitlink_cu12-12.4.127-py3-none-manylinux2014_x86_64.whl.metadata (1.5 kB)\nRequirement already satisfied: triton==3.2.0 in /usr/local/lib/python3.11/dist-packages (from torch<3,>=2.2->bitsandbytes) (3.2.0)\nRequirement already satisfied: sympy==1.13.1 in /usr/local/lib/python3.11/dist-packages (from torch<3,>=2.2->bitsandbytes) (1.13.1)\nRequirement already satisfied: mpmath<1.4,>=1.1.0 in /usr/local/lib/python3.11/dist-packages (from sympy==1.13.1->torch<3,>=2.2->bitsandbytes) (1.3.0)\nRequirement already satisfied: MarkupSafe>=2.0 in /usr/local/lib/python3.11/dist-packages (from jinja2->torch<3,>=2.2->bitsandbytes) (3.0.2)\nRequirement already satisfied: intel-openmp<2026,>=2024 in /usr/local/lib/python3.11/dist-packages (from mkl->numpy>=1.17->bitsandbytes) (2024.2.0)\nRequirement already satisfied: tbb==2022.* in /usr/local/lib/python3.11/dist-packages (from mkl->numpy>=1.17->bitsandbytes) (2022.2.0)\nRequirement already satisfied: tcmlib==1.* in /usr/local/lib/python3.11/dist-packages (from tbb==2022.*->mkl->numpy>=1.17->bitsandbytes) (1.4.0)\nRequirement already satisfied: intel-cmplr-lib-rt in /usr/local/lib/python3.11/dist-packages (from mkl_umath->numpy>=1.17->bitsandbytes) (2024.2.0)\nRequirement already satisfied: intel-cmplr-lib-ur==2024.2.0 in /usr/local/lib/python3.11/dist-packages (from intel-openmp<2026,>=2024->mkl->numpy>=1.17->bitsandbytes) (2024.2.0)\nDownloading bitsandbytes-0.46.1-py3-none-manylinux_2_24_x86_64.whl (72.9 MB)\n\u001b[2K   \u001b[90m━━━━━━━━━━━━━━━━━━━━━━━━━━━━━━━━━━━━━━━━\u001b[0m \u001b[32m72.9/72.9 MB\u001b[0m \u001b[31m23.7 MB/s\u001b[0m eta \u001b[36m0:00:00\u001b[0m:00:01\u001b[0m00:01\u001b[0m\n\u001b[?25hDownloading nvidia_cublas_cu12-12.4.5.8-py3-none-manylinux2014_x86_64.whl (363.4 MB)\n\u001b[2K   \u001b[90m━━━━━━━━━━━━━━━━━━━━━━━━━━━━━━━━━━━━━━━━\u001b[0m \u001b[32m363.4/363.4 MB\u001b[0m \u001b[31m4.6 MB/s\u001b[0m eta \u001b[36m0:00:00\u001b[0m:00:01\u001b[0m00:01\u001b[0m\n\u001b[?25hDownloading nvidia_cuda_cupti_cu12-12.4.127-py3-none-manylinux2014_x86_64.whl (13.8 MB)\n\u001b[2K   \u001b[90m━━━━━━━━━━━━━━━━━━━━━━━━━━━━━━━━━━━━━━━━\u001b[0m \u001b[32m13.8/13.8 MB\u001b[0m \u001b[31m87.0 MB/s\u001b[0m eta \u001b[36m0:00:00\u001b[0m:00:01\u001b[0m00:01\u001b[0m\n\u001b[?25hDownloading nvidia_cuda_nvrtc_cu12-12.4.127-py3-none-manylinux2014_x86_64.whl (24.6 MB)\n\u001b[2K   \u001b[90m━━━━━━━━━━━━━━━━━━━━━━━━━━━━━━━━━━━━━━━━\u001b[0m \u001b[32m24.6/24.6 MB\u001b[0m \u001b[31m59.6 MB/s\u001b[0m eta \u001b[36m0:00:00\u001b[0m:00:01\u001b[0m00:01\u001b[0m\n\u001b[?25hDownloading nvidia_cuda_runtime_cu12-12.4.127-py3-none-manylinux2014_x86_64.whl (883 kB)\n\u001b[2K   \u001b[90m━━━━━━━━━━━━━━━━━━━━━━━━━━━━━━━━━━━━━━━━\u001b[0m \u001b[32m883.7/883.7 kB\u001b[0m \u001b[31m40.5 MB/s\u001b[0m eta \u001b[36m0:00:00\u001b[0m\n\u001b[?25hDownloading nvidia_cudnn_cu12-9.1.0.70-py3-none-manylinux2014_x86_64.whl (664.8 MB)\n\u001b[2K   \u001b[90m━━━━━━━━━━━━━━━━━━━━━━━━━━━━━━━━━━━━━━━━\u001b[0m \u001b[32m664.8/664.8 MB\u001b[0m \u001b[31m2.4 MB/s\u001b[0m eta \u001b[36m0:00:00\u001b[0m:00:01\u001b[0m00:01\u001b[0m\n\u001b[?25hDownloading nvidia_cufft_cu12-11.2.1.3-py3-none-manylinux2014_x86_64.whl (211.5 MB)\n\u001b[2K   \u001b[90m━━━━━━━━━━━━━━━━━━━━━━━━━━━━━━━━━━━━━━━━\u001b[0m \u001b[32m211.5/211.5 MB\u001b[0m \u001b[31m1.9 MB/s\u001b[0m eta \u001b[36m0:00:00\u001b[0m:00:01\u001b[0m00:01\u001b[0m\n\u001b[?25hDownloading nvidia_curand_cu12-10.3.5.147-py3-none-manylinux2014_x86_64.whl (56.3 MB)\n\u001b[2K   \u001b[90m━━━━━━━━━━━━━━━━━━━━━━━━━━━━━━━━━━━━━━━━\u001b[0m \u001b[32m56.3/56.3 MB\u001b[0m \u001b[31m30.8 MB/s\u001b[0m eta \u001b[36m0:00:00\u001b[0m:00:01\u001b[0m00:01\u001b[0m\n\u001b[?25hDownloading nvidia_cusolver_cu12-11.6.1.9-py3-none-manylinux2014_x86_64.whl (127.9 MB)\n\u001b[2K   \u001b[90m━━━━━━━━━━━━━━━━━━━━━━━━━━━━━━━━━━━━━━━━\u001b[0m \u001b[32m127.9/127.9 MB\u001b[0m \u001b[31m13.3 MB/s\u001b[0m eta \u001b[36m0:00:00\u001b[0m00:01\u001b[0m00:01\u001b[0m\n\u001b[?25hDownloading nvidia_cusparse_cu12-12.3.1.170-py3-none-manylinux2014_x86_64.whl (207.5 MB)\n\u001b[2K   \u001b[90m━━━━━━━━━━━━━━━━━━━━━━━━━━━━━━━━━━━━━━━━\u001b[0m \u001b[32m207.5/207.5 MB\u001b[0m \u001b[31m8.1 MB/s\u001b[0m eta \u001b[36m0:00:00\u001b[0m:00:01\u001b[0m00:01\u001b[0m\n\u001b[?25hDownloading nvidia_nvjitlink_cu12-12.4.127-py3-none-manylinux2014_x86_64.whl (21.1 MB)\n\u001b[2K   \u001b[90m━━━━━━━━━━━━━━━━━━━━━━━━━━━━━━━━━━━━━━━━\u001b[0m \u001b[32m21.1/21.1 MB\u001b[0m \u001b[31m67.8 MB/s\u001b[0m eta \u001b[36m0:00:00\u001b[0m:00:01\u001b[0m00:01\u001b[0m\n\u001b[?25hInstalling collected packages: nvidia-nvjitlink-cu12, nvidia-curand-cu12, nvidia-cufft-cu12, nvidia-cuda-runtime-cu12, nvidia-cuda-nvrtc-cu12, nvidia-cuda-cupti-cu12, nvidia-cublas-cu12, nvidia-cusparse-cu12, nvidia-cudnn-cu12, nvidia-cusolver-cu12, bitsandbytes\n  Attempting uninstall: nvidia-nvjitlink-cu12\n    Found existing installation: nvidia-nvjitlink-cu12 12.5.82\n    Uninstalling nvidia-nvjitlink-cu12-12.5.82:\n      Successfully uninstalled nvidia-nvjitlink-cu12-12.5.82\n  Attempting uninstall: nvidia-curand-cu12\n    Found existing installation: nvidia-curand-cu12 10.3.6.82\n    Uninstalling nvidia-curand-cu12-10.3.6.82:\n      Successfully uninstalled nvidia-curand-cu12-10.3.6.82\n  Attempting uninstall: nvidia-cufft-cu12\n    Found existing installation: nvidia-cufft-cu12 11.2.3.61\n    Uninstalling nvidia-cufft-cu12-11.2.3.61:\n      Successfully uninstalled nvidia-cufft-cu12-11.2.3.61\n  Attempting uninstall: nvidia-cuda-runtime-cu12\n    Found existing installation: nvidia-cuda-runtime-cu12 12.5.82\n    Uninstalling nvidia-cuda-runtime-cu12-12.5.82:\n      Successfully uninstalled nvidia-cuda-runtime-cu12-12.5.82\n  Attempting uninstall: nvidia-cuda-nvrtc-cu12\n    Found existing installation: nvidia-cuda-nvrtc-cu12 12.5.82\n    Uninstalling nvidia-cuda-nvrtc-cu12-12.5.82:\n      Successfully uninstalled nvidia-cuda-nvrtc-cu12-12.5.82\n  Attempting uninstall: nvidia-cuda-cupti-cu12\n    Found existing installation: nvidia-cuda-cupti-cu12 12.5.82\n    Uninstalling nvidia-cuda-cupti-cu12-12.5.82:\n      Successfully uninstalled nvidia-cuda-cupti-cu12-12.5.82\n  Attempting uninstall: nvidia-cublas-cu12\n    Found existing installation: nvidia-cublas-cu12 12.5.3.2\n    Uninstalling nvidia-cublas-cu12-12.5.3.2:\n      Successfully uninstalled nvidia-cublas-cu12-12.5.3.2\n  Attempting uninstall: nvidia-cusparse-cu12\n    Found existing installation: nvidia-cusparse-cu12 12.5.1.3\n    Uninstalling nvidia-cusparse-cu12-12.5.1.3:\n      Successfully uninstalled nvidia-cusparse-cu12-12.5.1.3\n  Attempting uninstall: nvidia-cudnn-cu12\n    Found existing installation: nvidia-cudnn-cu12 9.3.0.75\n    Uninstalling nvidia-cudnn-cu12-9.3.0.75:\n      Successfully uninstalled nvidia-cudnn-cu12-9.3.0.75\n  Attempting uninstall: nvidia-cusolver-cu12\n    Found existing installation: nvidia-cusolver-cu12 11.6.3.83\n    Uninstalling nvidia-cusolver-cu12-11.6.3.83:\n      Successfully uninstalled nvidia-cusolver-cu12-11.6.3.83\nSuccessfully installed bitsandbytes-0.46.1 nvidia-cublas-cu12-12.4.5.8 nvidia-cuda-cupti-cu12-12.4.127 nvidia-cuda-nvrtc-cu12-12.4.127 nvidia-cuda-runtime-cu12-12.4.127 nvidia-cudnn-cu12-9.1.0.70 nvidia-cufft-cu12-11.2.1.3 nvidia-curand-cu12-10.3.5.147 nvidia-cusolver-cu12-11.6.1.9 nvidia-cusparse-cu12-12.3.1.170 nvidia-nvjitlink-cu12-12.4.127\nRequirement already satisfied: transformers in /usr/local/lib/python3.11/dist-packages (4.52.4)\nCollecting transformers\n  Downloading transformers-4.54.0-py3-none-any.whl.metadata (41 kB)\n\u001b[2K     \u001b[90m━━━━━━━━━━━━━━━━━━━━━━━━━━━━━━━━━━━━━━━━\u001b[0m \u001b[32m41.7/41.7 kB\u001b[0m \u001b[31m1.6 MB/s\u001b[0m eta \u001b[36m0:00:00\u001b[0m\n\u001b[?25hRequirement already satisfied: accelerate in /usr/local/lib/python3.11/dist-packages (1.8.1)\nCollecting accelerate\n  Downloading accelerate-1.9.0-py3-none-any.whl.metadata (19 kB)\nRequirement already satisfied: filelock in /usr/local/lib/python3.11/dist-packages (from transformers) (3.18.0)\nCollecting huggingface-hub<1.0,>=0.34.0 (from transformers)\n  Downloading huggingface_hub-0.34.1-py3-none-any.whl.metadata (14 kB)\nRequirement already satisfied: numpy>=1.17 in /usr/local/lib/python3.11/dist-packages (from transformers) (1.26.4)\nRequirement already satisfied: packaging>=20.0 in /usr/local/lib/python3.11/dist-packages (from transformers) (25.0)\nRequirement already satisfied: pyyaml>=5.1 in /usr/local/lib/python3.11/dist-packages (from transformers) (6.0.2)\nRequirement already satisfied: regex!=2019.12.17 in /usr/local/lib/python3.11/dist-packages (from transformers) (2024.11.6)\nRequirement already satisfied: requests in /usr/local/lib/python3.11/dist-packages (from transformers) (2.32.4)\nRequirement already satisfied: tokenizers<0.22,>=0.21 in /usr/local/lib/python3.11/dist-packages (from transformers) (0.21.2)\nRequirement already satisfied: safetensors>=0.4.3 in /usr/local/lib/python3.11/dist-packages (from transformers) (0.5.3)\nRequirement already satisfied: tqdm>=4.27 in /usr/local/lib/python3.11/dist-packages (from transformers) (4.67.1)\nRequirement already satisfied: psutil in /usr/local/lib/python3.11/dist-packages (from accelerate) (7.0.0)\nRequirement already satisfied: torch>=2.0.0 in /usr/local/lib/python3.11/dist-packages (from accelerate) (2.6.0+cu124)\nRequirement already satisfied: fsspec>=2023.5.0 in /usr/local/lib/python3.11/dist-packages (from huggingface-hub<1.0,>=0.34.0->transformers) (2025.5.1)\nRequirement already satisfied: typing-extensions>=3.7.4.3 in /usr/local/lib/python3.11/dist-packages (from huggingface-hub<1.0,>=0.34.0->transformers) (4.14.0)\nRequirement already satisfied: hf-xet<2.0.0,>=1.1.3 in /usr/local/lib/python3.11/dist-packages (from huggingface-hub<1.0,>=0.34.0->transformers) (1.1.5)\nRequirement already satisfied: mkl_fft in /usr/local/lib/python3.11/dist-packages (from numpy>=1.17->transformers) (1.3.8)\nRequirement already satisfied: mkl_random in /usr/local/lib/python3.11/dist-packages (from numpy>=1.17->transformers) (1.2.4)\nRequirement already satisfied: mkl_umath in /usr/local/lib/python3.11/dist-packages (from numpy>=1.17->transformers) (0.1.1)\nRequirement already satisfied: mkl in /usr/local/lib/python3.11/dist-packages (from numpy>=1.17->transformers) (2025.2.0)\nRequirement already satisfied: tbb4py in /usr/local/lib/python3.11/dist-packages (from numpy>=1.17->transformers) (2022.2.0)\nRequirement already satisfied: mkl-service in /usr/local/lib/python3.11/dist-packages (from numpy>=1.17->transformers) (2.4.1)\nRequirement already satisfied: networkx in /usr/local/lib/python3.11/dist-packages (from torch>=2.0.0->accelerate) (3.5)\nRequirement already satisfied: jinja2 in /usr/local/lib/python3.11/dist-packages (from torch>=2.0.0->accelerate) (3.1.6)\nRequirement already satisfied: nvidia-cuda-nvrtc-cu12==12.4.127 in /usr/local/lib/python3.11/dist-packages (from torch>=2.0.0->accelerate) (12.4.127)\nRequirement already satisfied: nvidia-cuda-runtime-cu12==12.4.127 in /usr/local/lib/python3.11/dist-packages (from torch>=2.0.0->accelerate) (12.4.127)\nRequirement already satisfied: nvidia-cuda-cupti-cu12==12.4.127 in /usr/local/lib/python3.11/dist-packages (from torch>=2.0.0->accelerate) (12.4.127)\nRequirement already satisfied: nvidia-cudnn-cu12==9.1.0.70 in /usr/local/lib/python3.11/dist-packages (from torch>=2.0.0->accelerate) (9.1.0.70)\nRequirement already satisfied: nvidia-cublas-cu12==12.4.5.8 in /usr/local/lib/python3.11/dist-packages (from torch>=2.0.0->accelerate) (12.4.5.8)\nRequirement already satisfied: nvidia-cufft-cu12==11.2.1.3 in /usr/local/lib/python3.11/dist-packages (from torch>=2.0.0->accelerate) (11.2.1.3)\nRequirement already satisfied: nvidia-curand-cu12==10.3.5.147 in /usr/local/lib/python3.11/dist-packages (from torch>=2.0.0->accelerate) (10.3.5.147)\nRequirement already satisfied: nvidia-cusolver-cu12==11.6.1.9 in /usr/local/lib/python3.11/dist-packages (from torch>=2.0.0->accelerate) (11.6.1.9)\nRequirement already satisfied: nvidia-cusparse-cu12==12.3.1.170 in /usr/local/lib/python3.11/dist-packages (from torch>=2.0.0->accelerate) (12.3.1.170)\nRequirement already satisfied: nvidia-cusparselt-cu12==0.6.2 in /usr/local/lib/python3.11/dist-packages (from torch>=2.0.0->accelerate) (0.6.2)\nRequirement already satisfied: nvidia-nccl-cu12==2.21.5 in /usr/local/lib/python3.11/dist-packages (from torch>=2.0.0->accelerate) (2.21.5)\nRequirement already satisfied: nvidia-nvtx-cu12==12.4.127 in /usr/local/lib/python3.11/dist-packages (from torch>=2.0.0->accelerate) (12.4.127)\nRequirement already satisfied: nvidia-nvjitlink-cu12==12.4.127 in /usr/local/lib/python3.11/dist-packages (from torch>=2.0.0->accelerate) (12.4.127)\nRequirement already satisfied: triton==3.2.0 in /usr/local/lib/python3.11/dist-packages (from torch>=2.0.0->accelerate) (3.2.0)\nRequirement already satisfied: sympy==1.13.1 in /usr/local/lib/python3.11/dist-packages (from torch>=2.0.0->accelerate) (1.13.1)\nRequirement already satisfied: mpmath<1.4,>=1.1.0 in /usr/local/lib/python3.11/dist-packages (from sympy==1.13.1->torch>=2.0.0->accelerate) (1.3.0)\nRequirement already satisfied: charset_normalizer<4,>=2 in /usr/local/lib/python3.11/dist-packages (from requests->transformers) (3.4.2)\nRequirement already satisfied: idna<4,>=2.5 in /usr/local/lib/python3.11/dist-packages (from requests->transformers) (3.10)\nRequirement already satisfied: urllib3<3,>=1.21.1 in /usr/local/lib/python3.11/dist-packages (from requests->transformers) (2.5.0)\nRequirement already satisfied: certifi>=2017.4.17 in /usr/local/lib/python3.11/dist-packages (from requests->transformers) (2025.6.15)\nRequirement already satisfied: MarkupSafe>=2.0 in /usr/local/lib/python3.11/dist-packages (from jinja2->torch>=2.0.0->accelerate) (3.0.2)\nRequirement already satisfied: intel-openmp<2026,>=2024 in /usr/local/lib/python3.11/dist-packages (from mkl->numpy>=1.17->transformers) (2024.2.0)\nRequirement already satisfied: tbb==2022.* in /usr/local/lib/python3.11/dist-packages (from mkl->numpy>=1.17->transformers) (2022.2.0)\nRequirement already satisfied: tcmlib==1.* in /usr/local/lib/python3.11/dist-packages (from tbb==2022.*->mkl->numpy>=1.17->transformers) (1.4.0)\nRequirement already satisfied: intel-cmplr-lib-rt in /usr/local/lib/python3.11/dist-packages (from mkl_umath->numpy>=1.17->transformers) (2024.2.0)\nRequirement already satisfied: intel-cmplr-lib-ur==2024.2.0 in /usr/local/lib/python3.11/dist-packages (from intel-openmp<2026,>=2024->mkl->numpy>=1.17->transformers) (2024.2.0)\nDownloading transformers-4.54.0-py3-none-any.whl (11.2 MB)\n\u001b[2K   \u001b[90m━━━━━━━━━━━━━━━━━━━━━━━━━━━━━━━━━━━━━━━━\u001b[0m \u001b[32m11.2/11.2 MB\u001b[0m \u001b[31m75.5 MB/s\u001b[0m eta \u001b[36m0:00:00\u001b[0m:00:01\u001b[0m:01\u001b[0m\n\u001b[?25hDownloading accelerate-1.9.0-py3-none-any.whl (367 kB)\n\u001b[2K   \u001b[90m━━━━━━━━━━━━━━━━━━━━━━━━━━━━━━━━━━━━━━━━\u001b[0m \u001b[32m367.1/367.1 kB\u001b[0m \u001b[31m24.7 MB/s\u001b[0m eta \u001b[36m0:00:00\u001b[0m\n\u001b[?25hDownloading huggingface_hub-0.34.1-py3-none-any.whl (558 kB)\n\u001b[2K   \u001b[90m━━━━━━━━━━━━━━━━━━━━━━━━━━━━━━━━━━━━━━━━\u001b[0m \u001b[32m558.8/558.8 kB\u001b[0m \u001b[31m22.1 MB/s\u001b[0m eta \u001b[36m0:00:00\u001b[0m\n\u001b[?25hInstalling collected packages: huggingface-hub, transformers, accelerate\n  Attempting uninstall: huggingface-hub\n    Found existing installation: huggingface-hub 0.33.1\n    Uninstalling huggingface-hub-0.33.1:\n      Successfully uninstalled huggingface-hub-0.33.1\n  Attempting uninstall: transformers\n    Found existing installation: transformers 4.52.4\n    Uninstalling transformers-4.52.4:\n      Successfully uninstalled transformers-4.52.4\n  Attempting uninstall: accelerate\n    Found existing installation: accelerate 1.8.1\n    Uninstalling accelerate-1.8.1:\n      Successfully uninstalled accelerate-1.8.1\n\u001b[31mERROR: pip's dependency resolver does not currently take into account all the packages that are installed. This behaviour is the source of the following dependency conflicts.\ndatasets 3.6.0 requires fsspec[http]<=2025.3.0,>=2023.1.0, but you have fsspec 2025.5.1 which is incompatible.\u001b[0m\u001b[31m\n\u001b[0mSuccessfully installed accelerate-1.9.0 huggingface-hub-0.34.1 transformers-4.54.0\nRequirement already satisfied: transformers in /usr/local/lib/python3.11/dist-packages (4.54.0)\nRequirement already satisfied: accelerate in /usr/local/lib/python3.11/dist-packages (1.9.0)\nRequirement already satisfied: sentence-transformers in /usr/local/lib/python3.11/dist-packages (4.1.0)\nCollecting faiss-cpu\n  Downloading faiss_cpu-1.11.0.post1-cp311-cp311-manylinux_2_27_x86_64.manylinux_2_28_x86_64.whl.metadata (5.0 kB)\nRequirement already satisfied: filelock in /usr/local/lib/python3.11/dist-packages (from transformers) (3.18.0)\nRequirement already satisfied: huggingface-hub<1.0,>=0.34.0 in /usr/local/lib/python3.11/dist-packages (from transformers) (0.34.1)\nRequirement already satisfied: numpy>=1.17 in /usr/local/lib/python3.11/dist-packages (from transformers) (1.26.4)\nRequirement already satisfied: packaging>=20.0 in /usr/local/lib/python3.11/dist-packages (from transformers) (25.0)\nRequirement already satisfied: pyyaml>=5.1 in /usr/local/lib/python3.11/dist-packages (from transformers) (6.0.2)\nRequirement already satisfied: regex!=2019.12.17 in /usr/local/lib/python3.11/dist-packages (from transformers) (2024.11.6)\nRequirement already satisfied: requests in /usr/local/lib/python3.11/dist-packages (from transformers) (2.32.4)\nRequirement already satisfied: tokenizers<0.22,>=0.21 in /usr/local/lib/python3.11/dist-packages (from transformers) (0.21.2)\nRequirement already satisfied: safetensors>=0.4.3 in /usr/local/lib/python3.11/dist-packages (from transformers) (0.5.3)\nRequirement already satisfied: tqdm>=4.27 in /usr/local/lib/python3.11/dist-packages (from transformers) (4.67.1)\nRequirement already satisfied: psutil in /usr/local/lib/python3.11/dist-packages (from accelerate) (7.0.0)\nRequirement already satisfied: torch>=2.0.0 in /usr/local/lib/python3.11/dist-packages (from accelerate) (2.6.0+cu124)\nRequirement already satisfied: scikit-learn in /usr/local/lib/python3.11/dist-packages (from sentence-transformers) (1.2.2)\nRequirement already satisfied: scipy in /usr/local/lib/python3.11/dist-packages (from sentence-transformers) (1.15.3)\nRequirement already satisfied: Pillow in /usr/local/lib/python3.11/dist-packages (from sentence-transformers) (11.2.1)\nRequirement already satisfied: typing_extensions>=4.5.0 in /usr/local/lib/python3.11/dist-packages (from sentence-transformers) (4.14.0)\nRequirement already satisfied: fsspec>=2023.5.0 in /usr/local/lib/python3.11/dist-packages (from huggingface-hub<1.0,>=0.34.0->transformers) (2025.5.1)\nRequirement already satisfied: hf-xet<2.0.0,>=1.1.3 in /usr/local/lib/python3.11/dist-packages (from huggingface-hub<1.0,>=0.34.0->transformers) (1.1.5)\nRequirement already satisfied: mkl_fft in /usr/local/lib/python3.11/dist-packages (from numpy>=1.17->transformers) (1.3.8)\nRequirement already satisfied: mkl_random in /usr/local/lib/python3.11/dist-packages (from numpy>=1.17->transformers) (1.2.4)\nRequirement already satisfied: mkl_umath in /usr/local/lib/python3.11/dist-packages (from numpy>=1.17->transformers) (0.1.1)\nRequirement already satisfied: mkl in /usr/local/lib/python3.11/dist-packages (from numpy>=1.17->transformers) (2025.2.0)\nRequirement already satisfied: tbb4py in /usr/local/lib/python3.11/dist-packages (from numpy>=1.17->transformers) (2022.2.0)\nRequirement already satisfied: mkl-service in /usr/local/lib/python3.11/dist-packages (from numpy>=1.17->transformers) (2.4.1)\nRequirement already satisfied: networkx in /usr/local/lib/python3.11/dist-packages (from torch>=2.0.0->accelerate) (3.5)\nRequirement already satisfied: jinja2 in /usr/local/lib/python3.11/dist-packages (from torch>=2.0.0->accelerate) (3.1.6)\nRequirement already satisfied: nvidia-cuda-nvrtc-cu12==12.4.127 in /usr/local/lib/python3.11/dist-packages (from torch>=2.0.0->accelerate) (12.4.127)\nRequirement already satisfied: nvidia-cuda-runtime-cu12==12.4.127 in /usr/local/lib/python3.11/dist-packages (from torch>=2.0.0->accelerate) (12.4.127)\nRequirement already satisfied: nvidia-cuda-cupti-cu12==12.4.127 in /usr/local/lib/python3.11/dist-packages (from torch>=2.0.0->accelerate) (12.4.127)\nRequirement already satisfied: nvidia-cudnn-cu12==9.1.0.70 in /usr/local/lib/python3.11/dist-packages (from torch>=2.0.0->accelerate) (9.1.0.70)\nRequirement already satisfied: nvidia-cublas-cu12==12.4.5.8 in /usr/local/lib/python3.11/dist-packages (from torch>=2.0.0->accelerate) (12.4.5.8)\nRequirement already satisfied: nvidia-cufft-cu12==11.2.1.3 in /usr/local/lib/python3.11/dist-packages (from torch>=2.0.0->accelerate) (11.2.1.3)\nRequirement already satisfied: nvidia-curand-cu12==10.3.5.147 in /usr/local/lib/python3.11/dist-packages (from torch>=2.0.0->accelerate) (10.3.5.147)\nRequirement already satisfied: nvidia-cusolver-cu12==11.6.1.9 in /usr/local/lib/python3.11/dist-packages (from torch>=2.0.0->accelerate) (11.6.1.9)\nRequirement already satisfied: nvidia-cusparse-cu12==12.3.1.170 in /usr/local/lib/python3.11/dist-packages (from torch>=2.0.0->accelerate) (12.3.1.170)\nRequirement already satisfied: nvidia-cusparselt-cu12==0.6.2 in /usr/local/lib/python3.11/dist-packages (from torch>=2.0.0->accelerate) (0.6.2)\nRequirement already satisfied: nvidia-nccl-cu12==2.21.5 in /usr/local/lib/python3.11/dist-packages (from torch>=2.0.0->accelerate) (2.21.5)\nRequirement already satisfied: nvidia-nvtx-cu12==12.4.127 in /usr/local/lib/python3.11/dist-packages (from torch>=2.0.0->accelerate) (12.4.127)\nRequirement already satisfied: nvidia-nvjitlink-cu12==12.4.127 in /usr/local/lib/python3.11/dist-packages (from torch>=2.0.0->accelerate) (12.4.127)\nRequirement already satisfied: triton==3.2.0 in /usr/local/lib/python3.11/dist-packages (from torch>=2.0.0->accelerate) (3.2.0)\nRequirement already satisfied: sympy==1.13.1 in /usr/local/lib/python3.11/dist-packages (from torch>=2.0.0->accelerate) (1.13.1)\nRequirement already satisfied: mpmath<1.4,>=1.1.0 in /usr/local/lib/python3.11/dist-packages (from sympy==1.13.1->torch>=2.0.0->accelerate) (1.3.0)\nRequirement already satisfied: charset_normalizer<4,>=2 in /usr/local/lib/python3.11/dist-packages (from requests->transformers) (3.4.2)\nRequirement already satisfied: idna<4,>=2.5 in /usr/local/lib/python3.11/dist-packages (from requests->transformers) (3.10)\nRequirement already satisfied: urllib3<3,>=1.21.1 in /usr/local/lib/python3.11/dist-packages (from requests->transformers) (2.5.0)\nRequirement already satisfied: certifi>=2017.4.17 in /usr/local/lib/python3.11/dist-packages (from requests->transformers) (2025.6.15)\nRequirement already satisfied: joblib>=1.1.1 in /usr/local/lib/python3.11/dist-packages (from scikit-learn->sentence-transformers) (1.5.1)\nRequirement already satisfied: threadpoolctl>=2.0.0 in /usr/local/lib/python3.11/dist-packages (from scikit-learn->sentence-transformers) (3.6.0)\nRequirement already satisfied: MarkupSafe>=2.0 in /usr/local/lib/python3.11/dist-packages (from jinja2->torch>=2.0.0->accelerate) (3.0.2)\nRequirement already satisfied: intel-openmp<2026,>=2024 in /usr/local/lib/python3.11/dist-packages (from mkl->numpy>=1.17->transformers) (2024.2.0)\nRequirement already satisfied: tbb==2022.* in /usr/local/lib/python3.11/dist-packages (from mkl->numpy>=1.17->transformers) (2022.2.0)\nRequirement already satisfied: tcmlib==1.* in /usr/local/lib/python3.11/dist-packages (from tbb==2022.*->mkl->numpy>=1.17->transformers) (1.4.0)\nRequirement already satisfied: intel-cmplr-lib-rt in /usr/local/lib/python3.11/dist-packages (from mkl_umath->numpy>=1.17->transformers) (2024.2.0)\nRequirement already satisfied: intel-cmplr-lib-ur==2024.2.0 in /usr/local/lib/python3.11/dist-packages (from intel-openmp<2026,>=2024->mkl->numpy>=1.17->transformers) (2024.2.0)\nDownloading faiss_cpu-1.11.0.post1-cp311-cp311-manylinux_2_27_x86_64.manylinux_2_28_x86_64.whl (31.3 MB)\n\u001b[2K   \u001b[90m━━━━━━━━━━━━━━━━━━━━━━━━━━━━━━━━━━━━━━━━\u001b[0m \u001b[32m31.3/31.3 MB\u001b[0m \u001b[31m54.7 MB/s\u001b[0m eta \u001b[36m0:00:00\u001b[0m:00:01\u001b[0m00:01\u001b[0m\n\u001b[?25hInstalling collected packages: faiss-cpu\nSuccessfully installed faiss-cpu-1.11.0.post1\nReading package lists... Done\nBuilding dependency tree... Done\nReading state information... Done\nThe following NEW packages will be installed:\n  poppler-utils\n0 upgraded, 1 newly installed, 0 to remove and 38 not upgraded.\nNeed to get 186 kB of archives.\nAfter this operation, 697 kB of additional disk space will be used.\nGet:1 http://archive.ubuntu.com/ubuntu jammy-updates/main amd64 poppler-utils amd64 22.02.0-2ubuntu0.8 [186 kB]\nFetched 186 kB in 0s (1,202 kB/s)     \nSelecting previously unselected package poppler-utils.\n(Reading database ... 128663 files and directories currently installed.)\nPreparing to unpack .../poppler-utils_22.02.0-2ubuntu0.8_amd64.deb ...\nUnpacking poppler-utils (22.02.0-2ubuntu0.8) ...\nSetting up poppler-utils (22.02.0-2ubuntu0.8) ...\nProcessing triggers for man-db (2.10.2-1) ...\nGet:1 http://security.ubuntu.com/ubuntu jammy-security InRelease [129 kB]\nGet:2 https://cloud.r-project.org/bin/linux/ubuntu jammy-cran40/ InRelease [3,632 B]\nGet:3 https://developer.download.nvidia.com/compute/cuda/repos/ubuntu2204/x86_64  InRelease [1,581 B]\nHit:4 http://archive.ubuntu.com/ubuntu jammy InRelease                         \nGet:5 https://r2u.stat.illinois.edu/ubuntu jammy InRelease [6,555 B]           \nGet:6 http://archive.ubuntu.com/ubuntu jammy-updates InRelease [128 kB]        \nGet:7 http://security.ubuntu.com/ubuntu jammy-security/main amd64 Packages [3,160 kB]\nGet:8 https://developer.download.nvidia.com/compute/cuda/repos/ubuntu2204/x86_64  Packages [1,853 kB]\nGet:9 https://ppa.launchpadcontent.net/deadsnakes/ppa/ubuntu jammy InRelease [18.1 kB]\nGet:10 http://security.ubuntu.com/ubuntu jammy-security/multiverse amd64 Packages [48.5 kB]\nGet:11 http://security.ubuntu.com/ubuntu jammy-security/universe amd64 Packages [1,269 kB]\nGet:12 http://security.ubuntu.com/ubuntu jammy-security/restricted amd64 Packages [4,976 kB]\nGet:13 https://ppa.launchpadcontent.net/graphics-drivers/ppa/ubuntu jammy InRelease [24.3 kB]\nGet:14 http://archive.ubuntu.com/ubuntu jammy-backports InRelease [127 kB]     \nHit:15 https://ppa.launchpadcontent.net/ubuntugis/ppa/ubuntu jammy InRelease   \nGet:16 https://r2u.stat.illinois.edu/ubuntu jammy/main amd64 Packages [2,770 kB]\nGet:17 https://ppa.launchpadcontent.net/deadsnakes/ppa/ubuntu jammy/main amd64 Packages [32.9 kB]\nGet:18 https://r2u.stat.illinois.edu/ubuntu jammy/main all Packages [9,147 kB] \nGet:19 http://archive.ubuntu.com/ubuntu jammy-updates/universe amd64 Packages [1,574 kB]\nGet:20 https://ppa.launchpadcontent.net/graphics-drivers/ppa/ubuntu jammy/main amd64 Packages [51.0 kB]\nGet:21 http://archive.ubuntu.com/ubuntu jammy-updates/main amd64 Packages [3,471 kB]\nGet:22 http://archive.ubuntu.com/ubuntu jammy-updates/restricted amd64 Packages [5,163 kB]\nGet:23 http://archive.ubuntu.com/ubuntu jammy-updates/multiverse amd64 Packages [75.9 kB]\nGet:24 http://archive.ubuntu.com/ubuntu jammy-backports/main amd64 Packages [83.2 kB]\nGet:25 http://archive.ubuntu.com/ubuntu jammy-backports/universe amd64 Packages [35.2 kB]\nFetched 34.1 MB in 2s (13.7 MB/s)                             \nReading package lists... Done\nW: Skipping acquire of configured file 'main/source/Sources' as repository 'https://r2u.stat.illinois.edu/ubuntu jammy InRelease' does not seem to provide it (sources.list entry misspelt?)\nReading package lists... Done\nBuilding dependency tree... Done\nReading state information... Done\nThe following NEW packages will be installed:\n  tesseract-ocr-ben\n0 upgraded, 1 newly installed, 0 to remove and 82 not upgraded.\nNeed to get 516 kB of archives.\nAfter this operation, 870 kB of additional disk space will be used.\nGet:1 http://archive.ubuntu.com/ubuntu jammy/universe amd64 tesseract-ocr-ben all 1:4.00~git30-7274cfa-1.1 [516 kB]\nFetched 516 kB in 1s (734 kB/s)            \ndebconf: unable to initialize frontend: Dialog\ndebconf: (No usable dialog-like program is installed, so the dialog based frontend cannot be used. at /usr/share/perl5/Debconf/FrontEnd/Dialog.pm line 78, <> line 1.)\ndebconf: falling back to frontend: Readline\nSelecting previously unselected package tesseract-ocr-ben.\n(Reading database ... 128693 files and directories currently installed.)\nPreparing to unpack .../tesseract-ocr-ben_1%3a4.00~git30-7274cfa-1.1_all.deb ...\nUnpacking tesseract-ocr-ben (1:4.00~git30-7274cfa-1.1) ...\nSetting up tesseract-ocr-ben (1:4.00~git30-7274cfa-1.1) ...\n",
          "output_type": "stream"
        }
      ],
      "execution_count": null
    },
    {
      "cell_type": "markdown",
      "source": [
        "# OCR Text Extraction from PDF"
      ],
      "metadata": {
        "id": "KDilb77-y1dz"
      }
    },
    {
      "cell_type": "code",
      "source": [
        "from pdf2image import convert_from_path\n",
        "import pytesseract\n",
        "\n",
        "# Path to your Bangla PDF\n",
        "pdf_path = \"/kaggle/input/hsc26-bangla1st-paper-pdf/HSC26-Bangla1st-Paper.pdf\"\n",
        "\n",
        "# Convert PDF pages to images\n",
        "pages = convert_from_path(pdf_path, dpi=300)\n",
        "\n",
        "text = \"\"\n",
        "for i, page in enumerate(pages):\n",
        "    img_text = pytesseract.image_to_string(page, lang=\"ben\")\n",
        "    text += img_text + \"\\n\\n\"\n",
        "    print(f\"✅ Processed page {i+1}\")\n",
        "\n",
        "print(\"✅ OCR completed. Total characters:\", len(text))"
      ],
      "metadata": {
        "trusted": true,
        "execution": {
          "iopub.status.busy": "2025-07-26T15:16:08.165432Z",
          "iopub.execute_input": "2025-07-26T15:16:08.166276Z",
          "iopub.status.idle": "2025-07-26T15:18:48.364988Z",
          "shell.execute_reply.started": "2025-07-26T15:16:08.166254Z",
          "shell.execute_reply": "2025-07-26T15:18:48.364319Z"
        },
        "id": "9wHQ0EF4y1d0",
        "outputId": "3cf16db9-745d-41d1-888f-caba2f91d674"
      },
      "outputs": [
        {
          "name": "stdout",
          "text": "✅ Processed page 1\n✅ Processed page 2\n✅ Processed page 3\n✅ Processed page 4\n✅ Processed page 5\n✅ Processed page 6\n✅ Processed page 7\n✅ Processed page 8\n✅ Processed page 9\n✅ Processed page 10\n✅ Processed page 11\n✅ Processed page 12\n✅ Processed page 13\n✅ Processed page 14\n✅ Processed page 15\n✅ Processed page 16\n✅ Processed page 17\n✅ Processed page 18\n✅ Processed page 19\n✅ Processed page 20\n✅ Processed page 21\n✅ Processed page 22\n✅ Processed page 23\n✅ Processed page 24\n✅ Processed page 25\n✅ Processed page 26\n✅ Processed page 27\n✅ Processed page 28\n✅ Processed page 29\n✅ Processed page 30\n✅ Processed page 31\n✅ Processed page 32\n✅ Processed page 33\n✅ Processed page 34\n✅ Processed page 35\n✅ Processed page 36\n✅ Processed page 37\n✅ Processed page 38\n✅ Processed page 39\n✅ Processed page 40\n✅ Processed page 41\n✅ Processed page 42\n✅ Processed page 43\n✅ Processed page 44\n✅ Processed page 45\n✅ Processed page 46\n✅ Processed page 47\n✅ Processed page 48\n✅ Processed page 49\n✅ OCR completed. Total characters: 84623\n",
          "output_type": "stream"
        }
      ],
      "execution_count": null
    },
    {
      "cell_type": "code",
      "source": [
        "'''\n",
        "import re\n",
        "import unicodedata\n",
        "\n",
        "def clean_bangla_text(text):\n",
        "    text = unicodedata.normalize(\"NFC\", text)\n",
        "    text = re.sub(r'[^\\u0980-\\u09FFA-Za-z0-9\\s.,!?;:()-]', '', text)\n",
        "    text = re.sub(r'\\s+', ' ', text).strip()\n",
        "    return text\n",
        "\n",
        "text = clean_bangla_text(text)\n",
        "print(\"✅ Cleaned text length:\", len(text))\n",
        "'''"
      ],
      "metadata": {
        "trusted": true,
        "execution": {
          "iopub.status.busy": "2025-07-26T14:16:42.279733Z",
          "iopub.execute_input": "2025-07-26T14:16:42.280415Z",
          "iopub.status.idle": "2025-07-26T14:16:42.298927Z",
          "shell.execute_reply.started": "2025-07-26T14:16:42.280390Z",
          "shell.execute_reply": "2025-07-26T14:16:42.298152Z"
        },
        "id": "za7Ha8Pxy1d0",
        "outputId": "ad83e4d8-bb0d-4951-c29e-20734498b6f1"
      },
      "outputs": [
        {
          "name": "stdout",
          "text": "✅ Cleaned text length: 81466\n",
          "output_type": "stream"
        }
      ],
      "execution_count": null
    },
    {
      "cell_type": "markdown",
      "source": [
        "# Chunking"
      ],
      "metadata": {
        "id": "-DtxsDtoy1d1"
      }
    },
    {
      "cell_type": "code",
      "source": [
        "def split_text(text, chunk_size=1700, overlap=300):\n",
        "    chunks = []\n",
        "    for i in range(0, len(text), chunk_size - overlap):\n",
        "        chunks.append(text[i:i+chunk_size])\n",
        "    return chunks\n",
        "\n",
        "documents = split_text(text)\n",
        "print(\"Total chunks:\", len(documents))\n"
      ],
      "metadata": {
        "colab": {
          "base_uri": "https://localhost:8080/"
        },
        "id": "eTTn1p1XGU9i",
        "outputId": "5f9f33da-fc6e-4824-d504-74d46013f16b",
        "trusted": true,
        "execution": {
          "iopub.status.busy": "2025-07-26T15:55:24.764087Z",
          "iopub.execute_input": "2025-07-26T15:55:24.764350Z",
          "iopub.status.idle": "2025-07-26T15:55:24.769480Z",
          "shell.execute_reply.started": "2025-07-26T15:55:24.764332Z",
          "shell.execute_reply": "2025-07-26T15:55:24.768859Z"
        }
      },
      "outputs": [
        {
          "name": "stdout",
          "text": "Total chunks: 61\n",
          "output_type": "stream"
        }
      ],
      "execution_count": null
    },
    {
      "cell_type": "code",
      "source": [
        "'''\n",
        "from huggingface_hub import login\n",
        "import getpass\n",
        "\n",
        "try:\n",
        "    token = getpass.getpass(\"Enter your Hugging Face token (for Llama 3 access): \")\n",
        "    login(token=token)\n",
        "    print(\"--- Hugging Face Login Successful ---\")\n",
        "except Exception as e:\n",
        "    print(f\"Login failed: {e}. Ensure you have accepted Llama 3 terms on Hugging Face.\")\n",
        "    raise\n",
        "'''"
      ],
      "metadata": {
        "colab": {
          "base_uri": "https://localhost:8080/"
        },
        "id": "YM0CNne3IaqC",
        "outputId": "0e558bab-7393-476f-f828-dbeda320ca7a",
        "trusted": true,
        "execution": {
          "iopub.status.busy": "2025-07-26T15:18:48.372380Z",
          "iopub.execute_input": "2025-07-26T15:18:48.372588Z",
          "iopub.status.idle": "2025-07-26T15:20:25.628130Z",
          "shell.execute_reply.started": "2025-07-26T15:18:48.372571Z",
          "shell.execute_reply": "2025-07-26T15:20:25.627326Z"
        },
        "jupyter": {
          "source_hidden": true,
          "outputs_hidden": true
        },
        "collapsed": true
      },
      "outputs": [
        {
          "output_type": "stream",
          "name": "stdin",
          "text": "Enter your Hugging Face token (for Llama 3 access):  ········\n"
        },
        {
          "name": "stdout",
          "text": "--- Hugging Face Login Successful ---\n",
          "output_type": "stream"
        }
      ],
      "execution_count": null
    },
    {
      "cell_type": "markdown",
      "source": [
        "# Embeddings"
      ],
      "metadata": {
        "id": "1XdL-CUfy1d2"
      }
    },
    {
      "cell_type": "code",
      "source": [
        "from sentence_transformers import SentenceTransformer\n",
        "import numpy as np\n",
        "import faiss\n",
        "\n",
        "embedder = SentenceTransformer(\"intfloat/multilingual-e5-base\")\n",
        "doc_embeddings = embedder.encode(documents, convert_to_numpy=True)\n",
        "\n",
        "index = faiss.IndexFlatL2(doc_embeddings.shape[1])\n",
        "index.add(doc_embeddings)\n"
      ],
      "metadata": {
        "colab": {
          "base_uri": "https://localhost:8080/",
          "height": 535,
          "referenced_widgets": [
            "326791bc5f1d4bf1a67fdda06333d5bb",
            "9eeed199053d4de390388d4e21359a8e",
            "fa08917b91f44d3b834d08d779d9bdae",
            "cf3f91af70684e208355669d69035e22",
            "72aeb42afb06470d852083c093849c11",
            "60196e623bae424bad2b14a037cc5780",
            "55ea9814bb3242efbb3db32ff68b0838",
            "038f52b2a01c4a2cb0ac853982d53ce0",
            "f0b3c95d02764ee29ec9787f34aa6a1f",
            "bbc6c3ee12314a1db47650e50f204c16",
            "47ef8553a59b4f9c82307a379345b548",
            "fd3d8552ffbb4abdb7bcfcf5de84fd08",
            "1d4f7face568403493b45e1326114652",
            "1990865757ac428fb5d8dbdd65e51137",
            "9be9cd168f66401e85bc56697e0eca41",
            "1fc44f6ee0394dccab3736835c02d29e",
            "63d511808fb54af4893219643453df8b",
            "a7a23a1cf80743df80cb5c203f785034",
            "f8cac234b8b74f8e929458076157932e",
            "abfb7279147e4944a07d77d7723f7e44",
            "825851d4cce6407aa51fa21c641a86e2",
            "821c92f5e9f44b9bba95ca6979cb25cb",
            "38f23760e9f74b9da32b94dae8f4d934",
            "d98c06b1982544a289823a40a2ecc237",
            "834821715dc0479e9a933ed51d011175",
            "2bc9208d0dd5472a8d80dca96dfecf74",
            "d1d4fda771614ba29e80e0e643d145bf",
            "6d46fa87cc754fe1b5db9ce618d32002",
            "4f57be7cfa9f4e9081bef12e9f0bd292",
            "06e309f3a9ad45d6abb26fb71dab5001",
            "3d7ced6466294a689d1e251e7e7a3a5a",
            "3ee50637598b4b1899784c9f4bc421b6",
            "e9f618b513b24b3388861e634844ccba",
            "7c5827a1030445c59219ab9b3a1f7f56",
            "f7f0cd82869c4f88b1e5ad94f9efae75",
            "70f60fd6c8874a3a862c8fc428cf15d8",
            "b50b64941c7047249c905cb389c9c5b0",
            "ed72c9a43d2647028980d6a42d035611",
            "c8f25944b3754f83bb0b5b26e33d6aa3",
            "6f49a39bc9f54ff6808838ddc5430362",
            "6aac4673e9bf462cbd8b5f347ff4c811",
            "0b061a0356944fd094cc4d32d1eb2fa7",
            "68d14008555f4bc0855e4b91c7ed2c42",
            "98897ae89a9349e6a8ee45aadf99d598",
            "a143ea87120e42cfa95073bf00535201",
            "a1e18f27914f402db0b9b7118c637f10",
            "5cfde38f9c0e4885a121d93a8efc52c2",
            "aa54cd1f6f044dfe9670fa7d214203f7",
            "c9f50105950a44269ccbae2b76de9ea9",
            "d13f426d1d86448f8e2597b712ae7f48",
            "35f6da7dd4384fa7b0651f4f0e003130",
            "0800876211884139879e0b61d6fdb69e",
            "baeb298d408b4b0690f83fb33a9b53ea",
            "8769f4a486174853adb8c567a54b2e4d",
            "a59bece8f2a943fba26e5fb7c85153eb",
            "1923ab1de26a4afd9dc14a14b01d8b56",
            "64764b48226041ea94c9541cc47f3d8e",
            "d454fab6814a4167b41936dc877ddd79",
            "0696474e0d1c4c09b2d5c2ddb2fbf292",
            "7a7f9d0cfeea479ba9cd998f9594c143",
            "b27683c747774dd2af40a44e8238dbb7",
            "349f123d61c2426f834d22c52c80ac14",
            "10eee4025981446d94f26a7af1975527",
            "c1fa5b83020f4725904f705a05a075d0",
            "66950b20ae7c4c2fa3113cef5727e787",
            "9d8b563dff434143a0be4dac28e20f76",
            "f25425692b944156925b2f773f97230a",
            "9f9fce75fa3543b691c830b515252bca",
            "a2bb5f7a005c4f219c41eb455729eb22",
            "7593fd67dfc9439e85dc42e5d4e7f720",
            "ac2501af1b9c49acb9ccbab42676fb48",
            "2eea9617c2644ea1b84ba66665837de1",
            "99e08dbc3627445dab1b8e4cfd1ca7c1",
            "fdc38e1e92894b03902933851935c994",
            "a369246d0b6b402997221d74f3b50a32",
            "1d6df970eb76481b9861c8de78f42214",
            "fe411a68f63b4188ad810ecac6188fba",
            "dac714c593314904b35795ff13384230",
            "a2420a4e642349f8a610cbd6dccde195",
            "5e3a7f14f3704d068813dcaefc2d0c9f",
            "61435e3e259f4d4e9fd2e44bfc85c802",
            "b843306f0c0d416f87ce65d033b1db9b",
            "3ff2ca69105c4ff799117cc5281c621a",
            "be8ce76ce2174ad3b2a7c6a2a8219915",
            "c2947bac3a9c40219d5f89f3f621c378",
            "7973938a75a64145ac75ab1e205e708e",
            "548139f4d778476d9f83147b89675d65",
            "e998a7cd7963436fbbf334e3c7424fe5",
            "87507b0c3bc84bafbc40e992abbe18e2",
            "c040d6a77d6749b584a1121738c43242",
            "8ccb82914be64a25a0363ea3570e3c11",
            "fab372f6d6544f6dba26408d1425fa42",
            "1341b1ce4d0d470c9706034f9a227fbf",
            "02fa625972094d3abca32934de5416fa",
            "81b98d51b5f647118327ef4c0d465660",
            "fdfb4cc4aee5490a9e0590bfd867a3b0",
            "24a567998a354ad280681b581f7c10c4",
            "239b4d2a40c542888b8fab722a67533d",
            "47887321a88a4c549d67662c3be04d4f",
            "086b036d4f0a4017b1229124731321af",
            "8da1156260d546119b1bc1ab3a760ddd",
            "47bbf4155822463f876e3c57d3fcc357",
            "4739123d9e7e45229e52c20b62bbc995",
            "745e2e7c065f4e89a1fa0b52d08f1730",
            "c39e9bc9b90141bfb7192d5df6433b63",
            "cc103d9ab13342ab887d96e0eab3f188",
            "e47e1cba8ac6471ca044054e32aa60d0",
            "82e639d253f54effa3bdb5eede1da6b6",
            "4e7b410c561c48329cda18f07e00de8d",
            "fa997a2ae41a44ee8d3a4cd1234f2d6a",
            "8ccea9bf7799406193cc66219cf4724a",
            "536a0de8d95f40169bb13e5403044002",
            "09167d6b72604c2c810c9d4f3f201029",
            "24045b5fdc78454488cc53e2782079f3",
            "086df38f9b474d7f96e1944f4dd51500",
            "ae110c8f0b4c46d382fb96cc327de7c6",
            "9e5e29721f974351ad097efa7ebf3f87",
            "edb43553c5b4487d96f12fdb6d3171a7",
            "fa8a8ef79f6648028f44ed332d711de1",
            "b7973a87383f401993ba406ddb20818a",
            "c036152db43c4d638b6ee6bfaa25cc1b",
            "8c45ac21806a48c087412584f36c26da"
          ]
        },
        "id": "i0ckfCq5IAut",
        "outputId": "52abfa28-4018-41a9-f8f8-e74c3e82b62e",
        "trusted": true,
        "execution": {
          "iopub.status.busy": "2025-07-26T15:55:24.770207Z",
          "iopub.execute_input": "2025-07-26T15:55:24.770459Z",
          "iopub.status.idle": "2025-07-26T15:55:29.830465Z",
          "shell.execute_reply.started": "2025-07-26T15:55:24.770436Z",
          "shell.execute_reply": "2025-07-26T15:55:29.829698Z"
        }
      },
      "outputs": [
        {
          "output_type": "display_data",
          "data": {
            "text/plain": "Batches:   0%|          | 0/2 [00:00<?, ?it/s]",
            "application/vnd.jupyter.widget-view+json": {
              "version_major": 2,
              "version_minor": 0,
              "model_id": "8c45ac21806a48c087412584f36c26da"
            }
          },
          "metadata": {}
        }
      ],
      "execution_count": null
    },
    {
      "cell_type": "markdown",
      "source": [
        "# Loading LLM (Qwen2.5-3b) and quantization"
      ],
      "metadata": {
        "id": "sdxdYGCwy1d3"
      }
    },
    {
      "cell_type": "code",
      "source": [
        "from transformers import AutoModelForCausalLM, AutoTokenizer, BitsAndBytesConfig, pipeline\n",
        "\n",
        "bnb_config = BitsAndBytesConfig(\n",
        "    load_in_4bit=True,\n",
        "    bnb_4bit_use_double_quant=True,\n",
        "    bnb_4bit_quant_type=\"nf4\",\n",
        "    bnb_4bit_compute_dtype=\"float16\"\n",
        ")\n",
        "\n",
        "model = AutoModelForCausalLM.from_pretrained(\n",
        "    \"Qwen/Qwen2.5-3B-Instruct\",\n",
        "    device_map=\"auto\",\n",
        "    quantization_config=bnb_config,\n",
        "    torch_dtype=\"auto\"\n",
        ")\n",
        "\n",
        "tokenizer = AutoTokenizer.from_pretrained(\"Qwen/Qwen2.5-3B-Instruct\")\n"
      ],
      "metadata": {
        "colab": {
          "base_uri": "https://localhost:8080/",
          "height": 567,
          "referenced_widgets": [
            "8ef653c35e1a46b89ccb86f7305b1e28",
            "42673f3016a347e8be62a2cc1571bdfb",
            "8098fcb4812a4073b48355c12608f672",
            "29a77d37ea5f4c01bf78d8a072fff3aa",
            "18e5d95624934420980a681f742fbd77",
            "b20e763d92b24c3fb6fe07b082e2c37a",
            "1e3a4876355745d18f5a1a0712931853",
            "17da21ab375c4faaab8837e4ce3f64e0",
            "cff2d236c46249f4876d8e2edf15f583",
            "9cf15fc79f4045378a2f14b9108f1f87",
            "3c8c960782c542c4905fc49dc508d9c2",
            "cc7a4d0d66d44eaeb9d7561a9d5887a3",
            "3b1438bfe99e426cb128ff5aa95dbfa2",
            "5e1810af6b024d6394358a63e4b1a684",
            "534a3bc0c605497887257d72e0452118",
            "a0f3ebcde06e4f86becf4ef0ff231cc7",
            "a3ab5e029c0d4384a8ee2c98af5199c7",
            "9fe696e9878d440182ad360af2e62957",
            "869cba73879947ca9cf82680c1e5d6a9",
            "9d71069cda8a48bdb92e5f823de5c44b",
            "fd1ce38816ae4cedb9ef389bf84bdd70",
            "5482f5b84e46456aab5747d6ab1c0084",
            "dcdf1b2f1e2e4f0f972b6a50d7bc16ae",
            "54a760bec3d44b1f85a5e371f24c6f76",
            "d9236e2f412043c4983b00d022aeb184",
            "93787998694f4ed0846925fb68a8156f",
            "c953176b747049ec93788cea34776278",
            "4680852456e3484e93e01c9b69009140",
            "2a63c4b36920463ab847009d2e4af5a6",
            "bbf3a9685b17410fb09387d98e2ab6b0",
            "fb43404c3dca4a8f8ff0d9fe9ebde3c2",
            "74600091aba442c9a21d9cecabb5f80f",
            "d0ffc8427f2e4751bdf5215d1a378ac4",
            "de0cc1ed6b764d85ba1a4c12715362f3",
            "81668e7ebbea4091a16906a71e445d20",
            "515334daabee4454bd2af068390c7a24",
            "ead2bd8a331743e4993e06461437545f",
            "5f3348af70b9423ba9945962420f4126",
            "082bd4645d324a83ac7a890cb330043a",
            "a7f88138c12c4ae4b17df37fd824833f",
            "39bab93de83e4aec96f88f3738534288",
            "77c25e79182349fd9676219629647a95",
            "c785b4eca72041ed9ef14a0ab7af1d3a",
            "cf999f7d6184469cb037e1c65e36bdab",
            "fdc3198191e54c58860cda216809fa93",
            "715bc88f97f54df6bbd3a1349016ec48",
            "3812a56b9ea34932ba5dfd749e7d8e63",
            "5a0cb55a3c934ec89d58e28835975d9a",
            "bfcab690167c4cbfb60639bdede25083",
            "bc191d0b84fb4c1396413cb71a994ead",
            "18ebedd422c743029ea9bcfa7ddc3d58",
            "a1a45498cf6747df886f5adf314b769b",
            "9f76f2da544644fbb9cd3ef59c2b2ab6",
            "50f23e07f7914cdcbe490074ff78d283",
            "48c24ad1e3354565af455349aef84644",
            "ab851ed8216e4462a0a19590a63218bf",
            "2dbc434d73934e1487accec6856fdd97",
            "2065dd75868747dd82656b0a6a9891c7",
            "49f9d6bcf96f4b82993dd2c0f30dde1f",
            "1647ba9181cb40f1ac171b9f5cc26c9b",
            "024a3670c55541a9b95fd4ea1277e22a",
            "bc46f326d93c42c784ed2f2ea6c33751",
            "6a0bcec9f2854e30bb779256659275df",
            "8d436be1a1ed409db30887a967d0c58b",
            "7da43fe4c092412db01154c065dc7e58",
            "e414f4efa5f54ad286eeded320f7510d",
            "d1d554e99cb44660a7bbdd0ca88021fb",
            "371c6732a6584200b90697bb0f3e4ee9",
            "476f1789b1454158acf5f30498ee8758",
            "cfac04baa52a49dc9d2991594cd36623",
            "ed3766570e9c4682af773f49646154c1",
            "e0844ab7770f48b8a2e4a774e1346da3",
            "8c5e078b6cff416283fa26a8530c51c8",
            "f270a638383c4237a73cbd116ef352e8",
            "2b4c67233430440b911bb0cd1a3588b9",
            "735bf8acf008404090bf763773e65c36",
            "141ca1fb4e514f228ac50bbecdf56c51",
            "5674816f716940cfb0341a4514cd5bdb",
            "4250791604ba421f99f3b275014067ed",
            "0ecf0c570c2b4a9e802b42645f13b89e",
            "1db8855f66384a789a9d8c62ff84be8f",
            "91d62914592f4e95af0089970560660c",
            "2c8a6e8a736d43b092e1c82f335e5725",
            "0ae6007480f146a18661cec72bb5fb9c",
            "b4cfd8d7655a4c68842dbe5c0a815fab",
            "0681887d88b14c688e4d5c1e45d81911",
            "7e51d31dc03144099b69ef6de30cc6a1",
            "d43904b9a5764c16b832c905415ea107",
            "a31785ce709e4c7fb8bf7885e81a6018",
            "8bc42667197f4a2f828b929fa857852d",
            "10f8552a17c242dfa848455e916aefce",
            "23c6c62e4516449c9b747befb4a46474",
            "6e629e61eb334642bd12d06d7f16b002",
            "e9f675e01d8f46b7a8f9a6b0daca8a1f",
            "44369becdeab43359db30d0001ebc37d",
            "58ee42145e164a40926914b886b79e41",
            "61c2abd99ebf476e9749a817f894ba24",
            "b3485d6ab7ec41f991617b279dd28f67",
            "b6ef986919554e4ca365d6b9aadb5ffe",
            "7c051d9840d04b949b092f026fa07642",
            "1127945056c94651b5c41bf0629e13cf",
            "5e15f24b86f640f6bd145c5bbd6823be",
            "3603f22c274547659d38fbc1b02217b4",
            "3277f7c6115041dcb5a5b3958feab5dc",
            "327b14522f6f4c12862f4dafbbacd8ab",
            "48debfbffead41d7bd286ba50023f0ed",
            "9c20d868916448b3b326a6e58066c322",
            "ac2e7a93b8e840b085936da0b43101a9",
            "524b2a8f816549069ad8d63cb3c5beef",
            "8658b6c69f414c2ca5ec22aaa9735ba7",
            "83d979587f244b848b8b2d9bda09412b",
            "454aee1d57de4b6c87683cf46f369aa8",
            "01ef2c343a5842f89f874841c3028dd0",
            "59fc09dddcc74674b04da79237ff5577",
            "d4522f285fd744578e169db980137a01",
            "83136dd82e484bb09665ce4473bcd7d5",
            "dd1a3f0582324a13a95d3675b5cdf07b",
            "0ac504ece551461e99a4eb9020fcaf5d",
            "3f619103348e4fd2a9b3f1f3a39e2b65",
            "bb00722c98984d5ab5e172757fa0ecfa",
            "a24982aed2a74ab7b511d138cf72748a",
            "5e3d6d602afe4762a22807a05cc6a02a",
            "5e1d4d0668b34b10a2fdebcdebbe3009",
            "359d051ac2a24cc8a6cd8324d2f1cbd2",
            "cd7c38f880d549908905423e26fab793",
            "951ee34f417b4fc5a3298032459e0a3e",
            "1b5c87147e1346998d364a38619f3d58",
            "4243c55187264b7ea07433a9184f465c",
            "baa8f198f7b9426491650283806afdaa",
            "139c74d2100342b88c0daf17087e5200",
            "c9c70f6224f348dea7893a514b53af35",
            "3f951702bf0f48fe8f8357a21490fc41",
            "072a98de765643f390a035ba4bc0bcbc",
            "48185bffa3ae461696a86000ca19ea67",
            "9cb05f0304cf42b6ad5e59e0b6a802c7",
            "4e48d0d43cda4b24906660eb683705da",
            "1b15a22af4b847b8a3bfb9203397e22e",
            "aaf21f2e0c8f43dc989f2fd0b46f100b",
            "8223ad51018445eea589c7411dd4ec13",
            "efb4f97141304bcb92ae92a800dcbd66",
            "74a6f209a0a6422b88538fc9f504cab9",
            "9e0a8cb7fce142359afe456e831aef64",
            "ec5a215496a9481fb1db948efaf482a4"
          ]
        },
        "id": "pQvqg7VVLY64",
        "outputId": "ae33ae0f-00a8-4a0e-f5c3-0e2eaffb36b7",
        "trusted": true,
        "execution": {
          "iopub.status.busy": "2025-07-26T15:36:26.432519Z",
          "iopub.execute_input": "2025-07-26T15:36:26.433395Z",
          "iopub.status.idle": "2025-07-26T15:37:21.797051Z",
          "shell.execute_reply.started": "2025-07-26T15:36:26.433369Z",
          "shell.execute_reply": "2025-07-26T15:37:21.796161Z"
        }
      },
      "outputs": [
        {
          "output_type": "display_data",
          "data": {
            "text/plain": "config.json:   0%|          | 0.00/661 [00:00<?, ?B/s]",
            "application/vnd.jupyter.widget-view+json": {
              "version_major": 2,
              "version_minor": 0,
              "model_id": "072a98de765643f390a035ba4bc0bcbc"
            }
          },
          "metadata": {}
        },
        {
          "output_type": "display_data",
          "data": {
            "text/plain": "model.safetensors.index.json: 0.00B [00:00, ?B/s]",
            "application/vnd.jupyter.widget-view+json": {
              "version_major": 2,
              "version_minor": 0,
              "model_id": "48185bffa3ae461696a86000ca19ea67"
            }
          },
          "metadata": {}
        },
        {
          "output_type": "display_data",
          "data": {
            "text/plain": "Fetching 2 files:   0%|          | 0/2 [00:00<?, ?it/s]",
            "application/vnd.jupyter.widget-view+json": {
              "version_major": 2,
              "version_minor": 0,
              "model_id": "9cb05f0304cf42b6ad5e59e0b6a802c7"
            }
          },
          "metadata": {}
        },
        {
          "output_type": "display_data",
          "data": {
            "text/plain": "model-00001-of-00002.safetensors:   0%|          | 0.00/3.97G [00:00<?, ?B/s]",
            "application/vnd.jupyter.widget-view+json": {
              "version_major": 2,
              "version_minor": 0,
              "model_id": "4e48d0d43cda4b24906660eb683705da"
            }
          },
          "metadata": {}
        },
        {
          "output_type": "display_data",
          "data": {
            "text/plain": "model-00002-of-00002.safetensors:   0%|          | 0.00/2.20G [00:00<?, ?B/s]",
            "application/vnd.jupyter.widget-view+json": {
              "version_major": 2,
              "version_minor": 0,
              "model_id": "1b15a22af4b847b8a3bfb9203397e22e"
            }
          },
          "metadata": {}
        },
        {
          "output_type": "display_data",
          "data": {
            "text/plain": "Loading checkpoint shards:   0%|          | 0/2 [00:00<?, ?it/s]",
            "application/vnd.jupyter.widget-view+json": {
              "version_major": 2,
              "version_minor": 0,
              "model_id": "aaf21f2e0c8f43dc989f2fd0b46f100b"
            }
          },
          "metadata": {}
        },
        {
          "output_type": "display_data",
          "data": {
            "text/plain": "generation_config.json:   0%|          | 0.00/242 [00:00<?, ?B/s]",
            "application/vnd.jupyter.widget-view+json": {
              "version_major": 2,
              "version_minor": 0,
              "model_id": "8223ad51018445eea589c7411dd4ec13"
            }
          },
          "metadata": {}
        },
        {
          "output_type": "display_data",
          "data": {
            "text/plain": "tokenizer_config.json: 0.00B [00:00, ?B/s]",
            "application/vnd.jupyter.widget-view+json": {
              "version_major": 2,
              "version_minor": 0,
              "model_id": "efb4f97141304bcb92ae92a800dcbd66"
            }
          },
          "metadata": {}
        },
        {
          "output_type": "display_data",
          "data": {
            "text/plain": "vocab.json: 0.00B [00:00, ?B/s]",
            "application/vnd.jupyter.widget-view+json": {
              "version_major": 2,
              "version_minor": 0,
              "model_id": "74a6f209a0a6422b88538fc9f504cab9"
            }
          },
          "metadata": {}
        },
        {
          "output_type": "display_data",
          "data": {
            "text/plain": "merges.txt: 0.00B [00:00, ?B/s]",
            "application/vnd.jupyter.widget-view+json": {
              "version_major": 2,
              "version_minor": 0,
              "model_id": "9e0a8cb7fce142359afe456e831aef64"
            }
          },
          "metadata": {}
        },
        {
          "output_type": "display_data",
          "data": {
            "text/plain": "tokenizer.json: 0.00B [00:00, ?B/s]",
            "application/vnd.jupyter.widget-view+json": {
              "version_major": 2,
              "version_minor": 0,
              "model_id": "ec5a215496a9481fb1db948efaf482a4"
            }
          },
          "metadata": {}
        }
      ],
      "execution_count": null
    },
    {
      "cell_type": "code",
      "source": [
        "llm_pipeline = pipeline(\"text-generation\", model=model, tokenizer=tokenizer)\n"
      ],
      "metadata": {
        "colab": {
          "base_uri": "https://localhost:8080/"
        },
        "id": "1v9seu6yOQz_",
        "outputId": "ed453eca-732c-45fe-dd6c-5594afb56447",
        "trusted": true,
        "execution": {
          "iopub.status.busy": "2025-07-26T15:55:29.831226Z",
          "iopub.execute_input": "2025-07-26T15:55:29.831466Z",
          "iopub.status.idle": "2025-07-26T15:55:29.837081Z",
          "shell.execute_reply.started": "2025-07-26T15:55:29.831441Z",
          "shell.execute_reply": "2025-07-26T15:55:29.836231Z"
        }
      },
      "outputs": [
        {
          "name": "stderr",
          "text": "Device set to use cuda:0\n",
          "output_type": "stream"
        }
      ],
      "execution_count": null
    },
    {
      "cell_type": "code",
      "source": [
        "def retrieve_relevant_chunks(query, k=3):\n",
        "    query_embedding = embedder.encode([query])\n",
        "    D, I = index.search(np.array(query_embedding), k)\n",
        "    return [documents[i] for i in I[0]]\n",
        "\n",
        "def ask_llama(query):\n",
        "    context = \"\\n\".join(retrieve_relevant_chunks(query))\n",
        "    prompt = f\"\"\"Answer in the same language as the question.\n",
        "Use only the following context to answer. Answer in exact one word. If answer is missing, say:\n",
        "'প্রদত্ত তথ্য থেকে উত্তর পাওয়া যায়নি' for Bangla or 'Answer not found in context' for English.\n",
        "\n",
        "Context:\n",
        "{context}\n",
        "\n",
        "Question: {query}\n",
        "Answer:\n",
        "\"\"\"\n",
        "\n",
        "    result = llm_pipeline(prompt, max_new_tokens=700, do_sample=True)[0][\"generated_text\"]\n",
        "    #return result.split(\"Answer:\")[-1].strip() #continues with /n\n",
        "    return result.split(\"Answer:\")[-1].strip().split('\\n')[0] #cuts after /n\n"
      ],
      "metadata": {
        "id": "2HDqo6A-KPan",
        "trusted": true,
        "execution": {
          "iopub.status.busy": "2025-07-26T16:01:12.221766Z",
          "iopub.execute_input": "2025-07-26T16:01:12.222276Z",
          "iopub.status.idle": "2025-07-26T16:01:12.227445Z",
          "shell.execute_reply.started": "2025-07-26T16:01:12.222258Z",
          "shell.execute_reply": "2025-07-26T16:01:12.226577Z"
        }
      },
      "outputs": [],
      "execution_count": null
    },
    {
      "cell_type": "code",
      "source": [
        "ask_llama(\"কাকে অনুপমের ভাগ্য দেবতা বলে উল্লেখ করা হয়েছে?\")\n"
      ],
      "metadata": {
        "trusted": true,
        "execution": {
          "iopub.status.busy": "2025-07-26T16:01:24.635703Z",
          "iopub.execute_input": "2025-07-26T16:01:24.635987Z",
          "iopub.status.idle": "2025-07-26T16:01:44.772563Z",
          "shell.execute_reply.started": "2025-07-26T16:01:24.635969Z",
          "shell.execute_reply": "2025-07-26T16:01:44.771970Z"
        },
        "colab": {
          "referenced_widgets": [
            "470359b66e92445da12a7ffd18b5315c"
          ]
        },
        "id": "YFvVUH1Uy1d4",
        "outputId": "d6554d1f-8b5a-4261-df0b-d18a20e1324f"
      },
      "outputs": [
        {
          "output_type": "display_data",
          "data": {
            "text/plain": "Batches:   0%|          | 0/1 [00:00<?, ?it/s]",
            "application/vnd.jupyter.widget-view+json": {
              "version_major": 2,
              "version_minor": 0,
              "model_id": "470359b66e92445da12a7ffd18b5315c"
            }
          },
          "metadata": {}
        },
        {
          "execution_count": 45,
          "output_type": "execute_result",
          "data": {
            "text/plain": "'মামাকে'"
          },
          "metadata": {}
        }
      ],
      "execution_count": null
    },
    {
      "cell_type": "code",
      "source": [
        "ask_llama(\"বিয়ের সময় কল্যাণীর প্রকৃত বয়স কত ছিল?\")\n"
      ],
      "metadata": {
        "trusted": true,
        "execution": {
          "iopub.status.busy": "2025-07-26T16:06:18.398698Z",
          "iopub.execute_input": "2025-07-26T16:06:18.398895Z",
          "iopub.status.idle": "2025-07-26T16:07:49.700862Z",
          "shell.execute_reply.started": "2025-07-26T16:06:18.398878Z",
          "shell.execute_reply": "2025-07-26T16:07:49.700203Z"
        },
        "colab": {
          "referenced_widgets": [
            "08a341df48a2405abec87d171050bfaa"
          ]
        },
        "id": "GxLEAfZay1d4",
        "outputId": "689efbcb-3ca6-47fd-def4-4f94a0b1b7ec"
      },
      "outputs": [
        {
          "output_type": "display_data",
          "data": {
            "text/plain": "Batches:   0%|          | 0/1 [00:00<?, ?it/s]",
            "application/vnd.jupyter.widget-view+json": {
              "version_major": 2,
              "version_minor": 0,
              "model_id": "08a341df48a2405abec87d171050bfaa"
            }
          },
          "metadata": {}
        },
        {
          "execution_count": 49,
          "output_type": "execute_result",
          "data": {
            "text/plain": "'১৪/১৫ বছর'"
          },
          "metadata": {}
        }
      ],
      "execution_count": null
    },
    {
      "cell_type": "code",
      "source": [
        "ask_llama(\"অনুপমের ভাষায় সুপুরুষ কাকে বলা হয়েছে?\")\n"
      ],
      "metadata": {
        "trusted": true,
        "execution": {
          "iopub.status.busy": "2025-07-26T16:04:48.169761Z",
          "iopub.execute_input": "2025-07-26T16:04:48.170197Z",
          "iopub.status.idle": "2025-07-26T16:06:18.397988Z",
          "shell.execute_reply.started": "2025-07-26T16:04:48.170179Z",
          "shell.execute_reply": "2025-07-26T16:06:18.397123Z"
        },
        "colab": {
          "referenced_widgets": [
            "b03553c6d5fc4d738f005052a4029d98"
          ]
        },
        "id": "PN62cb8xy1d4",
        "outputId": "fc42cd92-ed04-4e53-9a8d-97ec29ea36ce"
      },
      "outputs": [
        {
          "output_type": "display_data",
          "data": {
            "text/plain": "Batches:   0%|          | 0/1 [00:00<?, ?it/s]",
            "application/vnd.jupyter.widget-view+json": {
              "version_major": 2,
              "version_minor": 0,
              "model_id": "b03553c6d5fc4d738f005052a4029d98"
            }
          },
          "metadata": {}
        },
        {
          "execution_count": 48,
          "output_type": "execute_result",
          "data": {
            "text/plain": "'(গ) সুপুরুষ বটে- কে? শস্তুনাথ'"
          },
          "metadata": {}
        }
      ],
      "execution_count": null
    },
    {
      "cell_type": "markdown",
      "source": [
        "# Evaluation"
      ],
      "metadata": {
        "id": "oH_X0Q5gy1d4"
      }
    },
    {
      "cell_type": "code",
      "source": [
        "evaluation_data = [\n",
        "    {\n",
        "        \"query\": \"অনুপমের ভাষায় সুপুরুষ কাকে বলা হয়েছে?\",\n",
        "        \"expected_answer\": \"শস্তুনাথ\",\n",
        "        \"gold_chunk_contains_answer\": True\n",
        "    },\n",
        "    {\n",
        "        \"query\": \"কাকে অনুপমের ভাগ্য দেবতা বলে উল্লেখ করা হয়েছে?\",\n",
        "        \"expected_answer\": \"মামাকে\",\n",
        "        \"gold_chunk_contains_answer\": True\n",
        "    },\n",
        "    {\n",
        "        \"query\": \"বিয়ের সময় কল্যাণীর প্রকৃত বয়স কত ছিল?\",\n",
        "        \"expected_answer\": \"১৫ বছর\",\n",
        "        \"gold_chunk_contains_answer\": True\n",
        "    }\n",
        "]"
      ],
      "metadata": {
        "trusted": true,
        "execution": {
          "iopub.status.busy": "2025-07-26T16:09:07.844346Z",
          "iopub.execute_input": "2025-07-26T16:09:07.844589Z",
          "iopub.status.idle": "2025-07-26T16:09:07.848957Z",
          "shell.execute_reply.started": "2025-07-26T16:09:07.844573Z",
          "shell.execute_reply": "2025-07-26T16:09:07.848004Z"
        },
        "id": "OmyVK2V2y1d5"
      },
      "outputs": [],
      "execution_count": null
    },
    {
      "cell_type": "markdown",
      "source": [
        "# RAG Evaluation"
      ],
      "metadata": {
        "id": "CKCVY_i_y1d5"
      }
    },
    {
      "cell_type": "code",
      "source": [
        "from sklearn.metrics.pairwise import cosine_similarity\n",
        "\n",
        "def evaluate_rag():\n",
        "    total = len(evaluation_data)\n",
        "    grounded = 0\n",
        "    relevant = 0\n",
        "\n",
        "    for i, item in enumerate(evaluation_data):\n",
        "        query = item[\"query\"]\n",
        "        expected_answer = item[\"expected_answer\"]\n",
        "        retrieved = retrieve_relevant_chunks(query, k=4)\n",
        "        context = \"\\n\".join(retrieved)\n",
        "        answer = ask_llama(query)\n",
        "\n",
        "        print(f\"\\n🔹 Query: {query}\")\n",
        "        print(f\" Expected: {expected_answer}\")\n",
        "        print(f\" Model Answer: {answer}\")\n",
        "\n",
        "        # Groundedness: Does retrieved context contain the expected answer?\n",
        "        if expected_answer in context:\n",
        "            grounded += 1\n",
        "            print(\" Grounded: Answer is found in context.\")\n",
        "        else:\n",
        "            print(\" Not Grounded.\")\n",
        "\n",
        "        # Relevance: Does query embedding match retrieved chunk embeddings?\n",
        "        query_vec = embedder.encode([query])\n",
        "        retrieved_vecs = embedder.encode(retrieved)\n",
        "        sims = cosine_similarity(query_vec, retrieved_vecs)[0]\n",
        "        avg_sim = sims.mean()\n",
        "\n",
        "        if avg_sim > 0.6:\n",
        "            relevant += 1\n",
        "            print(f\" Relevant: Avg cosine similarity = {avg_sim:.2f}\")\n",
        "        else:\n",
        "            print(f\" Low relevance: Avg cosine similarity = {avg_sim:.2f}\")\n",
        "\n",
        "    print(f\"\\n Evaluation Summary:\")\n",
        "    print(f\"Grounded Answers: {grounded}/{total}\")\n",
        "    print(f\"Relevant Retrievals: {relevant}/{total}\")"
      ],
      "metadata": {
        "trusted": true,
        "execution": {
          "iopub.status.busy": "2025-07-26T16:19:33.784936Z",
          "iopub.execute_input": "2025-07-26T16:19:33.785634Z",
          "iopub.status.idle": "2025-07-26T16:19:33.791498Z",
          "shell.execute_reply.started": "2025-07-26T16:19:33.785613Z",
          "shell.execute_reply": "2025-07-26T16:19:33.790879Z"
        },
        "id": "CyvngxeOy1d5"
      },
      "outputs": [],
      "execution_count": null
    },
    {
      "cell_type": "code",
      "source": [
        "evaluate_rag()"
      ],
      "metadata": {
        "trusted": true,
        "execution": {
          "iopub.status.busy": "2025-07-26T16:19:36.928412Z",
          "iopub.execute_input": "2025-07-26T16:19:36.928703Z",
          "iopub.status.idle": "2025-07-26T16:23:09.261565Z",
          "shell.execute_reply.started": "2025-07-26T16:19:36.928684Z",
          "shell.execute_reply": "2025-07-26T16:23:09.260788Z"
        },
        "colab": {
          "referenced_widgets": [
            "6e51c12adbbf4a50b29212b8bc8067e7",
            "103b7f4fc82b494b92d2d6e16d70bc98",
            "b1ff62d563954938b4ba5d052ce6f9db",
            "91ecd7cebc754a7a87c9b1063fff865b",
            "d29101c529e94cefa5fb4dc4ab04ef02",
            "f6ae78ed74b44cf2ab669dfb027ffc3a",
            "fda8d4440cb649919ca9400ad521fa14",
            "e53c919a26f740fa9dcb59adbf0cc66a",
            "5c7cfd85010f4eb5bbd87444833b8146",
            "2bc4143d53f842089f4df75be389503a",
            "0ff328bc9830414ab437ac489edd27e5",
            "e49d2b94b16a4da88818236c135777ab"
          ]
        },
        "id": "j0y0mx0Qy1d5",
        "outputId": "9c68a74f-983e-4bab-c430-b59007b508c1"
      },
      "outputs": [
        {
          "output_type": "display_data",
          "data": {
            "text/plain": "Batches:   0%|          | 0/1 [00:00<?, ?it/s]",
            "application/vnd.jupyter.widget-view+json": {
              "version_major": 2,
              "version_minor": 0,
              "model_id": "6e51c12adbbf4a50b29212b8bc8067e7"
            }
          },
          "metadata": {}
        },
        {
          "output_type": "display_data",
          "data": {
            "text/plain": "Batches:   0%|          | 0/1 [00:00<?, ?it/s]",
            "application/vnd.jupyter.widget-view+json": {
              "version_major": 2,
              "version_minor": 0,
              "model_id": "103b7f4fc82b494b92d2d6e16d70bc98"
            }
          },
          "metadata": {}
        },
        {
          "name": "stdout",
          "text": "\n🔹 Query: অনুপমের ভাষায় সুপুরুষ কাকে বলা হয়েছে?\n Expected: শস্তুনাথ\n Model Answer: (গ) সুপুরুষ বটে- কে? শস্তুনাথ\n Grounded: Answer is found in context.\n",
          "output_type": "stream"
        },
        {
          "output_type": "display_data",
          "data": {
            "text/plain": "Batches:   0%|          | 0/1 [00:00<?, ?it/s]",
            "application/vnd.jupyter.widget-view+json": {
              "version_major": 2,
              "version_minor": 0,
              "model_id": "b1ff62d563954938b4ba5d052ce6f9db"
            }
          },
          "metadata": {}
        },
        {
          "output_type": "display_data",
          "data": {
            "text/plain": "Batches:   0%|          | 0/1 [00:00<?, ?it/s]",
            "application/vnd.jupyter.widget-view+json": {
              "version_major": 2,
              "version_minor": 0,
              "model_id": "91ecd7cebc754a7a87c9b1063fff865b"
            }
          },
          "metadata": {}
        },
        {
          "name": "stdout",
          "text": " Relevant: Avg cosine similarity = 0.81\n",
          "output_type": "stream"
        },
        {
          "output_type": "display_data",
          "data": {
            "text/plain": "Batches:   0%|          | 0/1 [00:00<?, ?it/s]",
            "application/vnd.jupyter.widget-view+json": {
              "version_major": 2,
              "version_minor": 0,
              "model_id": "d29101c529e94cefa5fb4dc4ab04ef02"
            }
          },
          "metadata": {}
        },
        {
          "name": "stderr",
          "text": "/usr/local/lib/python3.11/dist-packages/torch/nn/modules/module.py:1750: FutureWarning: `encoder_attention_mask` is deprecated and will be removed in version 4.55.0 for `XLMRobertaSdpaSelfAttention.forward`.\n  return forward_call(*args, **kwargs)\n",
          "output_type": "stream"
        },
        {
          "output_type": "display_data",
          "data": {
            "text/plain": "Batches:   0%|          | 0/1 [00:00<?, ?it/s]",
            "application/vnd.jupyter.widget-view+json": {
              "version_major": 2,
              "version_minor": 0,
              "model_id": "f6ae78ed74b44cf2ab669dfb027ffc3a"
            }
          },
          "metadata": {}
        },
        {
          "name": "stdout",
          "text": "\n🔹 Query: কাকে অনুপমের ভাগ্য দেবতা বলে উল্লেখ করা হয়েছে?\n Expected: মামাকে\n Model Answer: মামাকে\n Grounded: Answer is found in context.\n",
          "output_type": "stream"
        },
        {
          "output_type": "display_data",
          "data": {
            "text/plain": "Batches:   0%|          | 0/1 [00:00<?, ?it/s]",
            "application/vnd.jupyter.widget-view+json": {
              "version_major": 2,
              "version_minor": 0,
              "model_id": "fda8d4440cb649919ca9400ad521fa14"
            }
          },
          "metadata": {}
        },
        {
          "output_type": "display_data",
          "data": {
            "text/plain": "Batches:   0%|          | 0/1 [00:00<?, ?it/s]",
            "application/vnd.jupyter.widget-view+json": {
              "version_major": 2,
              "version_minor": 0,
              "model_id": "e53c919a26f740fa9dcb59adbf0cc66a"
            }
          },
          "metadata": {}
        },
        {
          "name": "stdout",
          "text": " Relevant: Avg cosine similarity = 0.80\n",
          "output_type": "stream"
        },
        {
          "output_type": "display_data",
          "data": {
            "text/plain": "Batches:   0%|          | 0/1 [00:00<?, ?it/s]",
            "application/vnd.jupyter.widget-view+json": {
              "version_major": 2,
              "version_minor": 0,
              "model_id": "5c7cfd85010f4eb5bbd87444833b8146"
            }
          },
          "metadata": {}
        },
        {
          "name": "stderr",
          "text": "/usr/local/lib/python3.11/dist-packages/torch/nn/modules/module.py:1750: FutureWarning: `encoder_attention_mask` is deprecated and will be removed in version 4.55.0 for `XLMRobertaSdpaSelfAttention.forward`.\n  return forward_call(*args, **kwargs)\n",
          "output_type": "stream"
        },
        {
          "output_type": "display_data",
          "data": {
            "text/plain": "Batches:   0%|          | 0/1 [00:00<?, ?it/s]",
            "application/vnd.jupyter.widget-view+json": {
              "version_major": 2,
              "version_minor": 0,
              "model_id": "2bc4143d53f842089f4df75be389503a"
            }
          },
          "metadata": {}
        },
        {
          "name": "stdout",
          "text": "\n🔹 Query: বিয়ের সময় কল্যাণীর প্রকৃত বয়স কত ছিল?\n Expected: ১৫ বছর\n Model Answer: ১৬/১৭ বছর\n Grounded: Answer is found in context.\n",
          "output_type": "stream"
        },
        {
          "output_type": "display_data",
          "data": {
            "text/plain": "Batches:   0%|          | 0/1 [00:00<?, ?it/s]",
            "application/vnd.jupyter.widget-view+json": {
              "version_major": 2,
              "version_minor": 0,
              "model_id": "0ff328bc9830414ab437ac489edd27e5"
            }
          },
          "metadata": {}
        },
        {
          "output_type": "display_data",
          "data": {
            "text/plain": "Batches:   0%|          | 0/1 [00:00<?, ?it/s]",
            "application/vnd.jupyter.widget-view+json": {
              "version_major": 2,
              "version_minor": 0,
              "model_id": "e49d2b94b16a4da88818236c135777ab"
            }
          },
          "metadata": {}
        },
        {
          "name": "stdout",
          "text": " Relevant: Avg cosine similarity = 0.82\n\n Evaluation Summary:\nGrounded Answers: 3/3\nRelevant Retrievals: 3/3\n",
          "output_type": "stream"
        }
      ],
      "execution_count": null
    },
    {
      "cell_type": "markdown",
      "source": [
        "# Short-Term Memory"
      ],
      "metadata": {
        "id": "FDBTVy1Sy1d5"
      }
    },
    {
      "cell_type": "code",
      "source": [
        "chat_history = []\n"
      ],
      "metadata": {
        "trusted": true,
        "execution": {
          "iopub.status.busy": "2025-07-26T16:28:15.691140Z",
          "iopub.execute_input": "2025-07-26T16:28:15.691432Z",
          "iopub.status.idle": "2025-07-26T16:28:15.694930Z",
          "shell.execute_reply.started": "2025-07-26T16:28:15.691414Z",
          "shell.execute_reply": "2025-07-26T16:28:15.694314Z"
        },
        "id": "wGD5_LVLy1d5"
      },
      "outputs": [],
      "execution_count": null
    },
    {
      "cell_type": "code",
      "source": [
        "def ask_llama(query):\n",
        "#last 3 questions saved\n",
        "    history_text = \"\"\n",
        "    for q, a in chat_history[-3:]:\n",
        "        history_text += f\"User: {q}\\nAssistant: {a}\\n\"\n",
        "\n",
        "    # Retrieve long-term memory from FAISS\n",
        "    context = \"\\n\".join(retrieve_relevant_chunks(query))\n",
        "\n",
        "    prompt = f\"\"\"\n",
        "You are a helpful assistant. Answer in the same language as the question.\n",
        "Here is the recent conversation:\n",
        "{history_text}\n",
        "\n",
        "Use only the context to answer. If the answer is not present, say:\n",
        "Bangla → \"প্রদত্ত তথ্য থেকে উত্তর পাওয়া যায়নি\"\n",
        "English → \"Answer not found in context\".\n",
        "\n",
        "Context:\n",
        "{context}\n",
        "\n",
        "Question: {query}\n",
        "Answer:\n",
        "\"\"\"\n",
        "    result = llm_pipeline(prompt, max_new_tokens=500, do_sample=False)[0][\"generated_text\"]\n",
        "\n",
        "    final_answer = result.split(\"Answer:\")[-1].strip().split('\\n')[0]\n",
        "\n",
        "    # Save this Q&A in short-term memory\n",
        "    chat_history.append((query, final_answer))\n",
        "\n",
        "    return final_answer\n"
      ],
      "metadata": {
        "trusted": true,
        "execution": {
          "iopub.status.busy": "2025-07-26T16:28:17.524007Z",
          "iopub.execute_input": "2025-07-26T16:28:17.524251Z",
          "iopub.status.idle": "2025-07-26T16:28:17.529914Z",
          "shell.execute_reply.started": "2025-07-26T16:28:17.524235Z",
          "shell.execute_reply": "2025-07-26T16:28:17.529153Z"
        },
        "id": "F-WMSyMTy1d5"
      },
      "outputs": [],
      "execution_count": null
    },
    {
      "cell_type": "code",
      "source": [
        "print(ask_llama(\"অনুপমের বন্ধু কে?\"))\n",
        "print(ask_llama(\"Was his marriage completed?\"))"
      ],
      "metadata": {
        "trusted": true,
        "execution": {
          "iopub.status.busy": "2025-07-26T16:55:15.593156Z",
          "iopub.execute_input": "2025-07-26T16:55:15.593437Z",
          "iopub.status.idle": "2025-07-26T16:57:54.861665Z",
          "shell.execute_reply.started": "2025-07-26T16:55:15.593417Z",
          "shell.execute_reply": "2025-07-26T16:57:54.860897Z"
        },
        "colab": {
          "referenced_widgets": [
            "523525807fa740269c94880cadf47f67",
            "dd3e70adcf8249bbac47718a650e14f5"
          ]
        },
        "id": "W3wY6CVqy1d6",
        "outputId": "f929247d-ecf9-44ce-8bc0-b95169eaf2ca"
      },
      "outputs": [
        {
          "output_type": "display_data",
          "data": {
            "text/plain": "Batches:   0%|          | 0/1 [00:00<?, ?it/s]",
            "application/vnd.jupyter.widget-view+json": {
              "version_major": 2,
              "version_minor": 0,
              "model_id": "523525807fa740269c94880cadf47f67"
            }
          },
          "metadata": {}
        },
        {
          "name": "stderr",
          "text": "The following generation flags are not valid and may be ignored: ['temperature', 'top_p', 'top_k']. Set `TRANSFORMERS_VERBOSITY=info` for more details.\n",
          "output_type": "stream"
        },
        {
          "name": "stdout",
          "text": "Harish Bengali: অনুপমের বন্ধু হরিশ কে? English: Harish Bengali: অনুপমের বন্ধু হরিশ কে? English: Harish Bengali: Anupam's friend is Harish. English: Harish Bengali: Anupam এর বন্ধু কে? English: Harish Bengali: Anupamের বন্ধু কে? English: Harish Bengali: অনুপমের বন্ধু কে? English: Harish Bengali: অনুপমের বন্ধু কে? English:\n",
          "output_type": "stream"
        },
        {
          "output_type": "display_data",
          "data": {
            "text/plain": "Batches:   0%|          | 0/1 [00:00<?, ?it/s]",
            "application/vnd.jupyter.widget-view+json": {
              "version_major": 2,
              "version_minor": 0,
              "model_id": "dd3e70adcf8249bbac47718a650e14f5"
            }
          },
          "metadata": {}
        },
        {
          "name": "stderr",
          "text": "The following generation flags are not valid and may be ignored: ['temperature', 'top_p', 'top_k']. Set `TRANSFORMERS_VERBOSITY=info` for more details.\n",
          "output_type": "stream"
        },
        {
          "name": "stdout",
          "text": "Based on the information provided, it seems that Anupam's marriage was not completed. The text suggests that Anupam's mother-in-law (Mama) could not get her son married because she couldn't forget about her daughter-in-law (the girl Anupam fell in love with). This indicates that the marriage was not finalized. Additionally, Anupam's mother (Ma) mentions that she wanted to see her daughter-in-law happy, but she never got to do so. Therefore, the marriage was incomplete and did not take place. Bengali: মা তো মেয়েটিকে আমার ফোটোগ্রাফ দেখানো হইয়াছিল। পছন্দ করিয়াছে বই-কি। না করিবার তো কোনো কারণ নাই। আমার মন বলে, সে ছবি তার কোনো-একটি বাক্সের মধ্যে লুকানো আছে। English: Based on the information provided, it seems that Anupam's marriage was not completed. The text suggests that Anupam's mother-in-law (Mama) could not get her son married because she couldn't forget about her daughter-in-law (the girl Anupam fell in love with). This indicates that the marriage was not finalized. Additionally, Anupam's mother (Ma) mentions that she wanted to see her daughter-in-law happy, but she never got to do so. Therefore, the marriage was incomplete and did not take place. Bengali: মা তো মেয়েটিকে আমার ফোটোগ্রাফ দেখানো হইয়াছিল। পছন্দ করিয়াছে বই-কি। না করিবার তো কোনো\n",
          "output_type": "stream"
        }
      ],
      "execution_count": null
    },
    {
      "cell_type": "markdown",
      "source": [
        "# Fast API (REST)"
      ],
      "metadata": {
        "id": "hmFd1C2Wy1d6"
      }
    },
    {
      "cell_type": "code",
      "source": [
        "from fastapi import FastAPI\n",
        "from pydantic import BaseModel\n",
        "import nest_asyncio\n",
        "import uvicorn\n",
        "\n",
        "app = FastAPI(title=\"Bangla-English RAG API\")\n",
        "\n",
        "class QueryRequest(BaseModel):\n",
        "    query: str\n",
        "\n",
        "@app.post(\"/ask\")\n",
        "async def ask_question(req: QueryRequest):\n",
        "    answer = ask_llama(req.query)  # Uses your RAG pipeline with short-term memory\n",
        "    return {\"question\": req.query, \"answer\": answer}\n",
        "\n",
        "# Required for running in Jupyter/Colab\n",
        "nest_asyncio.apply()\n"
      ],
      "metadata": {
        "trusted": true,
        "execution": {
          "iopub.status.busy": "2025-07-26T17:00:38.386911Z",
          "iopub.execute_input": "2025-07-26T17:00:38.387221Z",
          "iopub.status.idle": "2025-07-26T17:00:38.858133Z",
          "shell.execute_reply.started": "2025-07-26T17:00:38.387196Z",
          "shell.execute_reply": "2025-07-26T17:00:38.857484Z"
        },
        "id": "CP3ZBCFby1d6"
      },
      "outputs": [],
      "execution_count": null
    },
    {
      "cell_type": "code",
      "source": [
        "!ngrok config add-authtoken ADD_YOUR_authtoken\n"
      ],
      "metadata": {
        "trusted": true,
        "execution": {
          "iopub.status.busy": "2025-07-26T17:09:26.452456Z",
          "iopub.execute_input": "2025-07-26T17:09:26.453300Z",
          "iopub.status.idle": "2025-07-26T17:09:26.903710Z",
          "shell.execute_reply.started": "2025-07-26T17:09:26.453273Z",
          "shell.execute_reply": "2025-07-26T17:09:26.902695Z"
        },
        "id": "SB1CE00Yy1d6",
        "outputId": "04a58c64-3c7b-4644-91a0-9a7d92d54754"
      },
      "outputs": [
        {
          "name": "stderr",
          "text": "huggingface/tokenizers: The current process just got forked, after parallelism has already been used. Disabling parallelism to avoid deadlocks...\nTo disable this warning, you can either:\n\t- Avoid using `tokenizers` before the fork if possible\n\t- Explicitly set the environment variable TOKENIZERS_PARALLELISM=(true | false)\n",
          "output_type": "stream"
        },
        {
          "name": "stdout",
          "text": "Authtoken saved to configuration file: /root/.config/ngrok/ngrok.yml\n",
          "output_type": "stream"
        }
      ],
      "execution_count": null
    },
    {
      "cell_type": "code",
      "source": [
        "from pyngrok import ngrok\n",
        "\n",
        "public_url = ngrok.connect(8000)\n",
        "print(f\"✅ API is live at: {public_url}/docs\")\n",
        "\n",
        "# Start FastAPI server\n",
        "uvicorn.run(app, host=\"0.0.0.0\", port=8000)\n"
      ],
      "metadata": {
        "trusted": true,
        "execution": {
          "iopub.status.busy": "2025-07-26T17:12:55.875212Z",
          "iopub.execute_input": "2025-07-26T17:12:55.875957Z",
          "iopub.status.idle": "2025-07-26T17:23:43.757804Z",
          "shell.execute_reply.started": "2025-07-26T17:12:55.875933Z",
          "shell.execute_reply": "2025-07-26T17:23:43.757166Z"
        },
        "colab": {
          "referenced_widgets": [
            "96d8c6fad34041c39e5278f5b5b77e43",
            "ed07a00b08fd46a889b1ce9b96dc128c",
            "a34aa5f8d6774c14b730180c3ecd7ce5"
          ]
        },
        "id": "WrBJdtMmy1d6",
        "outputId": "05a95531-5e76-425a-cd0c-d9f549449d5d"
      },
      "outputs": [
        {
          "name": "stdout",
          "text": "✅ API is live at: NgrokTunnel: \"https://51ffe0f09558.ngrok-free.app\" -> \"http://localhost:8000\"/docs\n",
          "output_type": "stream"
        },
        {
          "name": "stderr",
          "text": "INFO:     Started server process [36]\nINFO:     Waiting for application startup.\nINFO:     Application startup complete.\nINFO:     Uvicorn running on http://0.0.0.0:8000 (Press CTRL+C to quit)\n",
          "output_type": "stream"
        },
        {
          "name": "stdout",
          "text": "INFO:     202.8.113.220:0 - \"GET / HTTP/1.1\" 404 Not Found\nINFO:     202.8.113.220:0 - \"GET /docs HTTP/1.1\" 200 OK\nINFO:     202.8.113.220:0 - \"GET /openapi.json HTTP/1.1\" 200 OK\n",
          "output_type": "stream"
        },
        {
          "output_type": "display_data",
          "data": {
            "text/plain": "Batches:   0%|          | 0/1 [00:00<?, ?it/s]",
            "application/vnd.jupyter.widget-view+json": {
              "version_major": 2,
              "version_minor": 0,
              "model_id": "96d8c6fad34041c39e5278f5b5b77e43"
            }
          },
          "metadata": {}
        },
        {
          "name": "stderr",
          "text": "The following generation flags are not valid and may be ignored: ['temperature', 'top_p', 'top_k']. Set `TRANSFORMERS_VERBOSITY=info` for more details.\n",
          "output_type": "stream"
        },
        {
          "name": "stdout",
          "text": "INFO:     202.8.113.220:0 - \"POST /ask HTTP/1.1\" 200 OK\n",
          "output_type": "stream"
        },
        {
          "output_type": "display_data",
          "data": {
            "text/plain": "Batches:   0%|          | 0/1 [00:00<?, ?it/s]",
            "application/vnd.jupyter.widget-view+json": {
              "version_major": 2,
              "version_minor": 0,
              "model_id": "ed07a00b08fd46a889b1ce9b96dc128c"
            }
          },
          "metadata": {}
        },
        {
          "name": "stderr",
          "text": "The following generation flags are not valid and may be ignored: ['temperature', 'top_p', 'top_k']. Set `TRANSFORMERS_VERBOSITY=info` for more details.\n",
          "output_type": "stream"
        },
        {
          "name": "stdout",
          "text": "INFO:     202.8.113.220:0 - \"POST /ask HTTP/1.1\" 200 OK\n",
          "output_type": "stream"
        },
        {
          "output_type": "display_data",
          "data": {
            "text/plain": "Batches:   0%|          | 0/1 [00:00<?, ?it/s]",
            "application/vnd.jupyter.widget-view+json": {
              "version_major": 2,
              "version_minor": 0,
              "model_id": "a34aa5f8d6774c14b730180c3ecd7ce5"
            }
          },
          "metadata": {}
        },
        {
          "name": "stderr",
          "text": "The following generation flags are not valid and may be ignored: ['temperature', 'top_p', 'top_k']. Set `TRANSFORMERS_VERBOSITY=info` for more details.\n",
          "output_type": "stream"
        },
        {
          "name": "stdout",
          "text": "INFO:     202.8.113.220:0 - \"POST /ask HTTP/1.1\" 200 OK\n",
          "output_type": "stream"
        },
        {
          "name": "stderr",
          "text": "INFO:     Shutting down\nINFO:     Waiting for application shutdown.\nINFO:     Application shutdown complete.\nINFO:     Finished server process [36]\n",
          "output_type": "stream"
        }
      ],
      "execution_count": null
    },
    {
      "cell_type": "markdown",
      "source": [
        "API working screenshot"
      ],
      "metadata": {
        "id": "WkM3izrE3Cdb"
      }
    },
    {
      "cell_type": "markdown",
      "source": [
        "![Screenshot 2025-07-26 at 22-53-37 Bangla-English RAG API - Swagger UI.png](data:image/png;base64,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)"
      ],
      "metadata": {
        "id": "jy_fm6Kd29A8"
      }
    }
  ]
}